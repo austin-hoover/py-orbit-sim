{
 "cells": [
  {
   "cell_type": "markdown",
   "id": "6a45ddb4-d06b-4417-8150-f2e7cc765e6e",
   "metadata": {},
   "source": [
    "# Analysis"
   ]
  },
  {
   "cell_type": "code",
   "execution_count": null,
   "id": "723dbfa8-94aa-47ea-8178-548ed31e044b",
   "metadata": {},
   "outputs": [],
   "source": [
    "import os\n",
    "import pickle\n",
    "import sys\n",
    "from pprint import pprint\n",
    "\n",
    "import matplotlib.pyplot as plt\n",
    "import numpy as np\n",
    "import pandas as pd\n",
    "import proplot as pplt\n",
    "import scipy.fft\n",
    "from tqdm.notebook import trange\n",
    "from ipywidgets import interact\n",
    "from ipywidgets import widgets\n",
    "\n",
    "sys.path.append(\"/home/46h/repo/psdist/\")\n",
    "import psdist as ps\n",
    "import psdist.visualization as psv\n",
    "\n",
    "# Local\n",
    "import lebedev_bogacz as LB\n",
    "from tunes import compute_tunes_phase_diff\n",
    "from tunes import compute_tunes_fft\n",
    "from tunes import fft"
   ]
  },
  {
   "cell_type": "code",
   "execution_count": null,
   "id": "e5511397-3013-4677-997a-fbeb8293055d",
   "metadata": {},
   "outputs": [],
   "source": [
    "pplt.rc[\"colorbar.width\"] = \"1.2em\"\n",
    "pplt.rc[\"cmap.discrete\"] = False\n",
    "pplt.rc[\"cmap.sequential\"] = \"viridis\"\n",
    "pplt.rc[\"cycle\"] = \"538\"\n",
    "pplt.rc[\"figure.facecolor\"] = \"white\"\n",
    "pplt.rc[\"grid\"] = False"
   ]
  },
  {
   "cell_type": "code",
   "execution_count": null,
   "id": "a388cbb6-00a7-4c4a-aa27-0a6601baa25c",
   "metadata": {},
   "outputs": [],
   "source": [
    "save = False"
   ]
  },
  {
   "cell_type": "markdown",
   "id": "3878c0ec-6f21-42b7-8ec4-cc298ea83a72",
   "metadata": {},
   "source": [
    "## Load data "
   ]
  },
  {
   "cell_type": "code",
   "execution_count": null,
   "id": "89d6644f-9ce7-4fea-97d1-7ba287e4d311",
   "metadata": {
    "scrolled": true,
    "tags": []
   },
   "outputs": [],
   "source": [
    "timestamp = 230929115448\n",
    "datadir = f\"../../data_output/sns_ring/track_matched_danilov/{timestamp}/\"    \n",
    "os.listdir(datadir)"
   ]
  },
  {
   "cell_type": "code",
   "execution_count": null,
   "id": "cf707713-91e6-4678-bb09-4984cc52d50b",
   "metadata": {},
   "outputs": [],
   "source": [
    "if save:\n",
    "    outdir = f\"../../figures/sns_ring/track_bunch/{timestamp}/\"\n",
    "    if not os.path.isdir(outdir):\n",
    "        os.makedirs(outdir)\n",
    "\n",
    "def save_figure(filename):\n",
    "    if not save:\n",
    "        return\n",
    "    filename = os.path.join(outdir, filename)\n",
    "    plt.savefig(filename)"
   ]
  },
  {
   "cell_type": "markdown",
   "id": "84c3ba12-0c5f-431c-acb7-324146b0f208",
   "metadata": {},
   "source": [
    "## Linear lattice analysis "
   ]
  },
  {
   "cell_type": "markdown",
   "id": "656f753d-6a59-43f1-ac00-7db2e0b1d324",
   "metadata": {},
   "source": [
    "### Transfer matrix"
   ]
  },
  {
   "cell_type": "code",
   "execution_count": null,
   "id": "9ffbdcaa-e34b-44f5-9da7-be5cc108c8a5",
   "metadata": {},
   "outputs": [],
   "source": [
    "file = open(os.path.join(datadir, \"lattice_params_4d.pkl\"), \"rb\")\n",
    "lattice_params_4d = pickle.load(file, encoding=\"latin1\")\n",
    "file.close()\n",
    "\n",
    "pprint(lattice_params_4d)"
   ]
  },
  {
   "cell_type": "markdown",
   "id": "906677ce-5493-49b4-8a53-1074b3358d16",
   "metadata": {},
   "source": [
    "### Position-dependent parameters"
   ]
  },
  {
   "cell_type": "markdown",
   "id": "5d64bfc5-920b-446e-949d-c669b6ab5b2c",
   "metadata": {},
   "source": [
    "These might be wrong.... they were computed by analyzing the transfer matrix starting from each node, rather than propagating the Twiss parameters along the beamline."
   ]
  },
  {
   "cell_type": "code",
   "execution_count": null,
   "id": "e0084c30-8cab-4464-95eb-49eb37097a26",
   "metadata": {},
   "outputs": [],
   "source": [
    "filename = os.path.join(datadir, \"lattice_twiss_4d.dat\")\n",
    "twiss_4d = pd.read_table(filename, sep=\" \", index_col=0)\n",
    "twiss_4d.head()"
   ]
  },
  {
   "cell_type": "code",
   "execution_count": null,
   "id": "8fdea8b5-96eb-498f-9893-b605bbb1f6cd",
   "metadata": {},
   "outputs": [],
   "source": [
    "fig, ax = pplt.subplots(figsize=(6, 2))\n",
    "_colors = pplt.Cycle(\"538\").by_key()[\"color\"]\n",
    "ax.plot(twiss_4d[\"s\"], twiss_4d[\"beta_1x\"], label=r\"$\\beta_{1x}$\", color=_colors[0])\n",
    "ax.plot(twiss_4d[\"s\"], twiss_4d[\"beta_1y\"], label=r\"$\\beta_{2y}$\", color=_colors[0], alpha=0.2)\n",
    "ax.plot(twiss_4d[\"s\"], twiss_4d[\"beta_2x\"], label=r\"$\\beta_{1x}$\", color=_colors[1], alpha=0.2)\n",
    "ax.plot(twiss_4d[\"s\"], twiss_4d[\"beta_2y\"], label=r\"$\\beta_{2y}$\", color=_colors[1])\n",
    "ax.legend(loc=\"right\", ncols=1)\n",
    "ax.format(xlabel=\"Position [m]\", ylabel=\"[m/rad]\")\n",
    "save_figure(\"twiss_4d\")\n",
    "plt.show()"
   ]
  },
  {
   "cell_type": "code",
   "execution_count": null,
   "id": "1e897da9-6491-4d69-9900-df6ac9a7c55b",
   "metadata": {},
   "outputs": [],
   "source": [
    "filename = os.path.join(datadir, \"lattice_dispersion.dat\")\n",
    "dispersion = pd.read_table(filename, sep=\" \", index_col=0)\n",
    "\n",
    "fig, ax = pplt.subplots(figsize=(6, 2))\n",
    "ax.plot(dispersion[\"s\"], dispersion[\"disp_x\"], label=r\"$D_x$\")\n",
    "ax.plot(dispersion[\"s\"], dispersion[\"disp_y\"], label=r\"$D_y$\")\n",
    "ax.legend(loc=\"right\", ncols=1)\n",
    "ax.format(xlabel=\"Position [m]\", ylabel=\"Dispersion\")\n",
    "save_figure(\"dispersion\")\n",
    "plt.show()"
   ]
  },
  {
   "cell_type": "markdown",
   "id": "c7507a48-4a8b-4f46-bffc-40430a4e8059",
   "metadata": {},
   "source": [
    "## Scalar history "
   ]
  },
  {
   "cell_type": "code",
   "execution_count": null,
   "id": "a6aec61c-3833-46a9-96a9-27f51171c395",
   "metadata": {},
   "outputs": [],
   "source": [
    "history = pd.read_csv(os.path.join(datadir, \"history.dat\"))\n",
    "history.columns"
   ]
  },
  {
   "cell_type": "code",
   "execution_count": null,
   "id": "ded5f32f-d629-4263-8267-e32d167eb8de",
   "metadata": {},
   "outputs": [],
   "source": [
    "fig, ax = pplt.subplots(figsize=(6, 2))\n",
    "ax.plot(1000.0 * history.loc[:, \"x_rms\"].values, label=\"x\")\n",
    "ax.plot(1000.0 * history.loc[:, \"y_rms\"].values, label=\"y\")\n",
    "ax.format(ymin=0.0, ymax=(1.25 * ax.get_ylim()[1]))\n",
    "ax.format(xlabel=\"Turn\", ylabel=\"RMS size [mm]\")\n",
    "ax.legend(loc=\"r\", ncols=1)\n",
    "save_figure(\"rms\")\n",
    "plt.show()"
   ]
  },
  {
   "cell_type": "code",
   "execution_count": null,
   "id": "cdc49884-d94c-4332-b642-a71a44110832",
   "metadata": {},
   "outputs": [],
   "source": [
    "colors = pplt.Cycle(\"538\").by_key()[\"color\"]\n",
    "\n",
    "fig, ax = pplt.subplots(figsize=(6, 2))\n",
    "ax.plot(1.00e+06 * history.loc[:, \"eps_1\"].values, label=r\"$\\varepsilon_1$\", color=colors[0], ls=\"-\")\n",
    "ax.plot(1.00e+06 * history.loc[:, \"eps_2\"].values, label=r\"$\\varepsilon_2$\", color=colors[1], ls=\"-\")\n",
    "ax.plot(1.00e+06 * history.loc[:, \"eps_x\"].values, label=r\"$\\varepsilon_x$\", color=colors[0], ls=\":\")\n",
    "ax.plot(1.00e+06 * history.loc[:, \"eps_y\"].values, label=r\"$\\varepsilon_y$\", color=colors[1], ls=\":\")\n",
    "ax.format(xlabel=\"Turn\", ylabel=\"Emittance [mm mrad]\")\n",
    "ax.legend(loc=\"r\", ncols=1)\n",
    "save_figure(\"emittance\")\n",
    "plt.show()"
   ]
  },
  {
   "cell_type": "markdown",
   "id": "6b3f0210-44dc-49c3-bb28-83478da2dd6e",
   "metadata": {},
   "source": [
    "### Moments"
   ]
  },
  {
   "cell_type": "code",
   "execution_count": null,
   "id": "4e30dc55-d95f-4982-8882-25bdddc1420b",
   "metadata": {},
   "outputs": [],
   "source": [
    "for i in range(4):\n",
    "    for j in range(i + 1):\n",
    "        key = f\"cov_{j}-{i}\"\n",
    "        fig, ax = pplt.subplots(figsize=(5.0, 2.0))\n",
    "        ax.plot(1.00e+06 * history.loc[:, key], color=\"black\")\n",
    "        _dims = [\"x\", \"x'\", \"y\", \"y'\"]\n",
    "        ylabel = r\"$\\langle {} {} \\rangle$\".format(_dims[j], _dims[i])\n",
    "        ax.format(xlabel=\"Turn\", ylabel=ylabel)\n",
    "        plt.show()"
   ]
  },
  {
   "cell_type": "markdown",
   "id": "5833dad1-6d04-486c-9d4b-06c1dcf25c0e",
   "metadata": {},
   "source": [
    "## Phase space coordinates"
   ]
  },
  {
   "cell_type": "markdown",
   "id": "a1658fef-d2c4-4724-8cdd-5f27fb885366",
   "metadata": {},
   "source": [
    "Load the bunch at a few turns."
   ]
  },
  {
   "cell_type": "code",
   "execution_count": null,
   "id": "dc77a897-54fd-4409-8f79-c469e09d8ef0",
   "metadata": {},
   "outputs": [],
   "source": [
    "filenames = os.listdir(datadir)\n",
    "filenames = [f for f in filenames if f.startswith(\"bunch\")]\n",
    "filenames = sorted(filenames)\n",
    "filenames = [os.path.join(datadir, f) for f in filenames]\n",
    "\n",
    "bunches = []\n",
    "for filename in filenames:\n",
    "    X = np.loadtxt(\n",
    "        filename, \n",
    "        comments=\"%\",\n",
    "        usecols=range(6), \n",
    "    )    \n",
    "    X = X[:, :4]\n",
    "    X = X * 1000.0\n",
    "    bunches.append(np.copy(X))"
   ]
  },
  {
   "cell_type": "code",
   "execution_count": null,
   "id": "53a6957e-6dcc-450f-b213-95c22be7cb5b",
   "metadata": {},
   "outputs": [],
   "source": [
    "dims = [\"x\", \"xp\", \"y\", \"yp\", \"z\", \"dE\"]\n",
    "\n",
    "psv.cloud.proj2d_interactive_slice(\n",
    "    data=bunches,\n",
    "    dims=dims,\n",
    "    offset=1.0,\n",
    "    options=dict(profiles=True)\n",
    ")"
   ]
  },
  {
   "cell_type": "markdown",
   "id": "226b5f55-f6f3-42fc-a45d-8f8c6221dd3f",
   "metadata": {},
   "source": [
    "Compute the bunch normalization matrix $W$, whose inverse results in $\\Sigma = \\text{diag}(\\varepsilon_1, \\varepsilon_1, \\varepsilon_2, \\varepsilon_2)$, where $\\varepsilon_{j}$ is the intrinsic emittance of mode $j$. We compute this matrix for the first bunch, assuming the phase space distriubiton is approximately unchanged on subsequent turns."
   ]
  },
  {
   "cell_type": "code",
   "execution_count": null,
   "id": "112b56e8-bd75-4fc7-8280-02efbd81aac0",
   "metadata": {},
   "outputs": [],
   "source": [
    "X = np.copy(bunches[0])\n",
    "W = LB.get_bunch_normalization_matrix(X)\n",
    "Winv = np.linalg.inv(W)"
   ]
  },
  {
   "cell_type": "markdown",
   "id": "5c7ccfaf-0884-439f-a9f2-18c8ec6ef54c",
   "metadata": {},
   "source": [
    "## Small bunch"
   ]
  },
  {
   "cell_type": "code",
   "execution_count": null,
   "id": "52d11f1a-1ca6-427d-962b-94d339e64399",
   "metadata": {},
   "outputs": [],
   "source": [
    "filenames = os.listdir(datadir)\n",
    "filenames = [f for f in filenames if f.startswith(\"smallbunch\")]\n",
    "filenames = sorted(filenames)\n",
    "filenames = [os.path.join(datadir, f) for f in filenames]\n",
    "\n",
    "smallbunches = []\n",
    "for filename in filenames:\n",
    "    X = np.load(filename)\n",
    "    X = X[:, :4]\n",
    "    X = X * 1000.0\n",
    "    smallbunches.append(X)\n",
    "smallbunches = np.array(smallbunches)\n",
    "smallbunches.shape"
   ]
  },
  {
   "cell_type": "code",
   "execution_count": null,
   "id": "ed7c309c-8c71-435d-b06b-ddc5be9082b2",
   "metadata": {},
   "outputs": [],
   "source": [
    "smallbunches_n = np.zeros(smallbunches.shape)\n",
    "for i in range(smallbunches_n.shape[0]):\n",
    "    smallbunches_n[i, :, :4] = ps.cloud.transform_linear(smallbunches[i, :, :4], Winv)"
   ]
  },
  {
   "cell_type": "code",
   "execution_count": null,
   "id": "85c7c817-e6f0-447e-929f-806584ad366b",
   "metadata": {},
   "outputs": [],
   "source": [
    "turn_start = 0\n",
    "turn_stop = 10\n",
    "tunes = compute_tunes_phase_diff(smallbunches_n[turn_start : turn_stop + 1])\n",
    "\n",
    "\n",
    "xmin = ymin = 0.0\n",
    "xmax = ymax = 0.25\n",
    "limits = [(xmin, xmax), (ymin, ymax)]\n",
    "\n",
    "grid = psv.JointGrid()\n",
    "grid.plot_cloud(\n",
    "    tunes, \n",
    "    bins=75,\n",
    "    limits=limits,\n",
    "    cmap=\"blues\",\n",
    ")\n",
    "grid.ax.format(xlim=limits[0], ylim=limits[1])\n",
    "grid.ax.format(xlabel=r\"$\\nu_1$\", ylabel=r\"$\\nu_2$\")\n",
    "plt.show()"
   ]
  },
  {
   "cell_type": "code",
   "execution_count": null,
   "id": "dec17c9f-d99b-4446-8d5b-450599db319a",
   "metadata": {},
   "outputs": [],
   "source": [
    "@interact(\n",
    "    part=(0, len(smallbunches[0]) - 1),\n",
    "    norm=False,\n",
    "    tmax=widgets.IntSlider(min=0, max=len(smallbunches), value=len(smallbunches)),\n",
    ")\n",
    "def update(part, norm, tmax):\n",
    "    coords = smallbunches_n if norm else smallbunches\n",
    "    signals = []\n",
    "    for axis in [0, 2]:\n",
    "        signal = coords[:, part, axis]\n",
    "        signals.append(signal)\n",
    "        \n",
    "    fig, axs = pplt.subplots(figsize=(9.0, 2.5), nrows=2, ncols=2, spany=False, sharey=False, sharex=False)\n",
    "    for i, (dim, signal) in enumerate(zip([\"x\", \"y\"], signals)):\n",
    "        freq, amp = fft(signal)\n",
    "        amp = amp / np.max(amp)\n",
    "        axs[i, 0].plot(freq, amp, label=dim, color=\"black\")\n",
    "        axs[i, 1].plot(signal[:tmax], label=dim, color=\"black\")\n",
    "    axs[0, 0].format(ylabel=\"Horizontal\")\n",
    "    axs[1, 0].format(ylabel=\"Vertical\")\n",
    "    axs[1, 0].format(xlabel=\"Freqency\")\n",
    "    axs[1, 1].format(xlabel=\"Turn\")\n",
    "    axs[:, 0].format(xlim=(0.0, 0.5), ylim=(-0.02, 1.1))\n",
    "    plt.show()"
   ]
  },
  {
   "cell_type": "code",
   "execution_count": null,
   "id": "63c58e33-6d22-45f8-9bfc-9ace6e132b5b",
   "metadata": {},
   "outputs": [],
   "source": [
    "tunes_fft = compute_tunes_fft(smallbunches_n)"
   ]
  },
  {
   "cell_type": "code",
   "execution_count": null,
   "id": "f03e29e1-a706-4d6d-a563-aaa113a9bf48",
   "metadata": {},
   "outputs": [],
   "source": [
    "fig, axs = pplt.subplots(ncols=2)\n",
    "for i, ax in enumerate(axs):\n",
    "    psv.cloud.plot2d(\n",
    "        [tunes, tunes_fft][i], \n",
    "        ax=ax, \n",
    "        bins=50,\n",
    "        limits=limits,\n",
    "        mask=False,\n",
    "        colorbar=True,\n",
    "    )\n",
    "axs.format(toplabels=[\"Phase diff\", \"FFT\"])\n",
    "axs.format(xlim=limits[0], ylim=limits[1])\n",
    "axs.format(xlabel=r\"$\\nu_1$\", ylabel=r\"$\\nu_2$\")\n",
    "plt.show()"
   ]
  },
  {
   "cell_type": "code",
   "execution_count": null,
   "id": "b220c54a-7a79-44b1-9269-c1f9ee7c8e43",
   "metadata": {},
   "outputs": [],
   "source": []
  }
 ],
 "metadata": {
  "kernelspec": {
   "display_name": "myenv",
   "language": "python",
   "name": "myenv"
  },
  "language_info": {
   "codemirror_mode": {
    "name": "ipython",
    "version": 3
   },
   "file_extension": ".py",
   "mimetype": "text/x-python",
   "name": "python",
   "nbconvert_exporter": "python",
   "pygments_lexer": "ipython3",
   "version": "3.9.16"
  },
  "toc-autonumbering": true
 },
 "nbformat": 4,
 "nbformat_minor": 5
}
