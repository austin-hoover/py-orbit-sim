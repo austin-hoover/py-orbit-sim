{
 "cells": [
  {
   "cell_type": "code",
   "execution_count": 9,
   "id": "23ee1c6f-3c3e-420b-98c1-3be4dd36f9a7",
   "metadata": {},
   "outputs": [],
   "source": [
    "import os\n",
    "import sys\n",
    "\n",
    "import matplotlib.pyplot as plt\n",
    "import numpy as np\n",
    "import proplot as pplt\n",
    "from ipywidgets import interact\n",
    "from ipywidgets import widgets\n",
    "\n",
    "sys.path.append(\"/home/46h/repo/psdist/\")\n",
    "import psdist as ps\n",
    "import psdist.visualization as psv"
   ]
  },
  {
   "cell_type": "code",
   "execution_count": 10,
   "id": "83965e42-82f9-48ca-8971-984ea738c04e",
   "metadata": {},
   "outputs": [],
   "source": [
    "pplt.rc[\"cycle\"] = \"538\"\n",
    "pplt.rc[\"cmap.discrete\"] = False\n",
    "pplt.rc[\"cmap.sequential\"] = \"viridis\"\n",
    "pplt.rc[\"figure.facecolor\"] = \"white\"\n",
    "pplt.rc[\"grid\"] = False"
   ]
  },
  {
   "cell_type": "code",
   "execution_count": 1,
   "id": "900558b3-313f-40db-abd6-b949d671a90c",
   "metadata": {},
   "outputs": [],
   "source": [
    "eigenvectors = np.array([\n",
    "    [1.25171349e+00-2.08810289j, 1.25171349e+00-2.08810289j, 2.57931125e+00+0.j, 2.57931125e+00+0.j],\n",
    "    [-1.92772499e-01-0.07949326j, -1.92772499e-01-0.07949326j, -8.04834747e-04-0.19306255j, -8.04834747e-04-0.19306255j],\n",
    "    [-2.58312739e+00-0.j, -2.58312739e+00-0.j, 1.07231715e+00+2.09119227j, 1.07231715e+00+2.09119227j],\n",
    "    [5.74049321e-03+0.19277733j, 5.74049321e-03+0.19277733j, 1.89714695e-01-0.09820014j, 1.89714695e-01-0.09820014j]\n",
    "])"
   ]
  },
  {
   "cell_type": "code",
   "execution_count": 3,
   "id": "07bb892b-b254-4f35-b596-013fc71941ea",
   "metadata": {},
   "outputs": [],
   "source": [
    "v1, _, v2, _ = eigenvectors.T"
   ]
  },
  {
   "cell_type": "code",
   "execution_count": 25,
   "id": "6214aca7-ac83-4d1b-a872-419cd6781bdf",
   "metadata": {},
   "outputs": [
    {
     "data": {
      "text/plain": [
       "array([ 1.25171349+2.08810289j, -0.1927725 +0.07949326j,\n",
       "       -2.58312739-0.j        ,  0.00574049-0.19277733j])"
      ]
     },
     "execution_count": 25,
     "metadata": {},
     "output_type": "execute_result"
    }
   ],
   "source": [
    "np.conj(eigenvectors[:, 0])"
   ]
  },
  {
   "cell_type": "code",
   "execution_count": 30,
   "id": "4c6b82ee-d84a-4595-bee1-33c5a897d235",
   "metadata": {},
   "outputs": [
    {
     "data": {
      "text/plain": [
       "array([ 1.25171349-2.08810289j, -0.1927725 -0.07949326j,\n",
       "       -2.58312739+0.j        ,  0.00574049+0.19277733j])"
      ]
     },
     "execution_count": 30,
     "metadata": {},
     "output_type": "execute_result"
    }
   ],
   "source": [
    "eigenvectors[:, 0]"
   ]
  },
  {
   "cell_type": "code",
   "execution_count": 31,
   "id": "bdf47747-2840-4175-bed4-bec221a92a35",
   "metadata": {},
   "outputs": [
    {
     "data": {
      "text/plain": [
       "array([ 2.57931125e+00+0.j        , -8.04834747e-04-0.19306255j,\n",
       "        1.07231715e+00+2.09119227j,  1.89714695e-01-0.09820014j])"
      ]
     },
     "execution_count": 31,
     "metadata": {},
     "output_type": "execute_result"
    }
   ],
   "source": [
    "eigenvectors[:, 2]"
   ]
  },
  {
   "cell_type": "code",
   "execution_count": 47,
   "id": "4a7469aa-fdc6-4b15-b5c0-498d6fec63a9",
   "metadata": {},
   "outputs": [],
   "source": [
    "J1 = 0.00\n",
    "J2 = 10.00\n",
    "psi1 = np.radians(0.0)\n",
    "psi2 = np.radians(0.0)\n",
    "\n",
    "X = []\n",
    "for psi2 in np.linspace(0.0, 2.0 * np.pi, 100):\n",
    "    x1 = np.exp(-1.0j * psi1) * np.sqrt(2.0 * J1) * v1\n",
    "    x2 = np.exp(-1.0j * psi2) * np.sqrt(2.0 * J2) * v2\n",
    "    x = np.real(x1 + x2)\n",
    "    X.append(x)\n",
    "X = np.array(X)"
   ]
  },
  {
   "cell_type": "code",
   "execution_count": 48,
   "id": "b8f6165a-7a90-400e-9fa1-85b2e17767f8",
   "metadata": {},
   "outputs": [
    {
     "data": {
      "application/vnd.jupyter.widget-view+json": {
       "model_id": "40a877d76ccf46c69bc232f27a9d8818",
       "version_major": 2,
       "version_minor": 0
      },
      "text/plain": [
       "interactive(children=(IntSlider(value=49, description='i', max=99), Output()), _dom_classes=('widget-interact'…"
      ]
     },
     "metadata": {},
     "output_type": "display_data"
    }
   ],
   "source": [
    "@interact()\n",
    "def update(i=(0, X.shape[0] - 1)):\n",
    "    grid = psv.CornerGrid(d=4, diag=False, labels=[\"x\", \"xp\", \"y\", \"yp\"])\n",
    "    grid.plot_cloud(X, kind=\"scatter\")\n",
    "    grid.plot_cloud(X[i : i + 1, :], kind=\"scatter\", color=\"red\", s=12)"
   ]
  },
  {
   "cell_type": "code",
   "execution_count": 50,
   "id": "47d6078b-16ff-4a61-871f-40d71e290268",
   "metadata": {},
   "outputs": [
    {
     "data": {
      "text/plain": [
       "array([11.53503058,  0.8633504 , 10.50896271,  0.95535134])"
      ]
     },
     "execution_count": 50,
     "metadata": {},
     "output_type": "execute_result"
    }
   ],
   "source": [
    "np.max(np.abs(X), axis=0)"
   ]
  },
  {
   "cell_type": "code",
   "execution_count": null,
   "id": "3fdcf961-50a0-4a60-9c9d-77834f53f44a",
   "metadata": {},
   "outputs": [],
   "source": []
  }
 ],
 "metadata": {
  "kernelspec": {
   "display_name": "myenv",
   "language": "python",
   "name": "myenv"
  },
  "language_info": {
   "codemirror_mode": {
    "name": "ipython",
    "version": 3
   },
   "file_extension": ".py",
   "mimetype": "text/x-python",
   "name": "python",
   "nbconvert_exporter": "python",
   "pygments_lexer": "ipython3",
   "version": "3.9.16"
  }
 },
 "nbformat": 4,
 "nbformat_minor": 5
}
