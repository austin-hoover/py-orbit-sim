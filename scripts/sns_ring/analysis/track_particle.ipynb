{
 "cells": [
  {
   "cell_type": "markdown",
   "id": "b075f90d-81c2-4ce4-976c-f0c2a223b1f6",
   "metadata": {},
   "source": [
    "# Single particle tracking analysis"
   ]
  },
  {
   "cell_type": "code",
   "execution_count": null,
   "id": "20d2ae4d-80cc-4f17-997c-e0448af94305",
   "metadata": {},
   "outputs": [],
   "source": [
    "import os\n",
    "import pickle\n",
    "import sys\n",
    "from pprint import pprint\n",
    "\n",
    "import matplotlib.pyplot as plt\n",
    "import numpy as np\n",
    "import pandas as pd\n",
    "import proplot as pplt\n",
    "from ipywidgets import interact\n",
    "from ipywidgets import widgets\n",
    "\n",
    "sys.path.append(\"/home/46h/repo/psdist/\")\n",
    "import psdist as ps\n",
    "import psdist.visualization as psv"
   ]
  },
  {
   "cell_type": "code",
   "execution_count": null,
   "id": "912d1ab9-5661-4bdb-932b-7913db67fbc8",
   "metadata": {},
   "outputs": [],
   "source": [
    "pplt.rc[\"cycle\"] = \"538\"\n",
    "pplt.rc[\"cmap.discrete\"] = False\n",
    "pplt.rc[\"cmap.sequential\"] = \"viridis\"\n",
    "pplt.rc[\"figure.facecolor\"] = \"white\"\n",
    "pplt.rc[\"grid\"] = False"
   ]
  },
  {
   "cell_type": "markdown",
   "id": "7b80aab7-9ce7-464d-a8b6-6ea555f7a2ea",
   "metadata": {},
   "source": [
    "## Load data "
   ]
  },
  {
   "cell_type": "code",
   "execution_count": null,
   "id": "6a0f5979-2dd9-4298-8a91-2dd82c9a29ca",
   "metadata": {},
   "outputs": [],
   "source": [
    "timestamp = 230914140229\n",
    "datadir = f\"../../data_output/sns_ring/track_particle/{timestamp}\"\n",
    "os.listdir(datadir)"
   ]
  },
  {
   "cell_type": "markdown",
   "id": "81cb70b0-6e93-4a3a-bc97-4800c8002bd7",
   "metadata": {},
   "source": [
    "## Linear transfer matrix analysis"
   ]
  },
  {
   "cell_type": "markdown",
   "id": "8ae41939-1c55-485d-9ff9-970a484797a3",
   "metadata": {},
   "source": [
    "### Uncoupled"
   ]
  },
  {
   "cell_type": "code",
   "execution_count": null,
   "id": "5e96a5d1-7f48-49ee-b820-6943f4d5843b",
   "metadata": {},
   "outputs": [],
   "source": [
    "file = open(os.path.join(datadir, \"lattice_params_uncoupled.pkl\"), \"rb\")\n",
    "lattice_params =  pickle.load(file, encoding=\"latin1\")\n",
    "file.close()\n",
    "\n",
    "pprint(lattice_params)"
   ]
  },
  {
   "cell_type": "code",
   "execution_count": null,
   "id": "61072fbf-3c0b-43f4-963e-ee4e7b7b0841",
   "metadata": {},
   "outputs": [],
   "source": [
    "filename = os.path.join(datadir, \"lattice_twiss.dat\")\n",
    "twiss = pd.read_table(filename, sep=\" \", index_col=0)\n",
    "twiss"
   ]
  },
  {
   "cell_type": "code",
   "execution_count": null,
   "id": "f86b2066-b667-46e3-a834-d5b5d0709b4b",
   "metadata": {},
   "outputs": [],
   "source": [
    "fig, ax = pplt.subplots(figsize=(6, 2))\n",
    "ax.plot(twiss[\"s\"], twiss[\"beta_x\"], label=r\"$\\beta_x$\")\n",
    "ax.plot(twiss[\"s\"], twiss[\"beta_y\"], label=r\"$\\beta_y$\")\n",
    "ax.legend(loc=\"right\", ncols=1)\n",
    "ax.format(xlabel=\"Position [m]\", ylabel=\"[m/rad]\")"
   ]
  },
  {
   "cell_type": "markdown",
   "id": "2b36340f-63cc-475e-8e01-1dde277bbb72",
   "metadata": {},
   "source": [
    "### Coupled"
   ]
  },
  {
   "cell_type": "code",
   "execution_count": null,
   "id": "0a0c99eb-bf91-474a-88b6-bc0e1934b76c",
   "metadata": {},
   "outputs": [],
   "source": [
    "file = open(os.path.join(datadir, \"lattice_params_coupled.pkl\"), \"rb\")\n",
    "lattice_params_coupled = pickle.load(file, encoding=\"latin1\")\n",
    "file.close()\n",
    "\n",
    "pprint(lattice_params_coupled)"
   ]
  },
  {
   "cell_type": "markdown",
   "id": "6b9e1e1e-7e69-4d40-8dd3-38b795056204",
   "metadata": {},
   "source": [
    "These might be wrong."
   ]
  },
  {
   "cell_type": "code",
   "execution_count": null,
   "id": "b268ab2d-eb92-41d2-96be-dd83f4c4eaea",
   "metadata": {},
   "outputs": [],
   "source": [
    "filename = os.path.join(datadir, \"lattice_twiss_coupled.dat\")\n",
    "twiss_coupled = pd.read_table(filename, sep=\" \", index_col=0)\n",
    "twiss_coupled"
   ]
  },
  {
   "cell_type": "code",
   "execution_count": null,
   "id": "e2e54892-ac8e-4db3-80ca-4918f5f7932f",
   "metadata": {},
   "outputs": [],
   "source": [
    "fig, ax = pplt.subplots(figsize=(6, 2))\n",
    "_colors = pplt.Cycle(\"538\").by_key()[\"color\"]\n",
    "ax.plot(twiss_coupled[\"s\"], twiss_coupled[\"beta_1x\"], label=r\"$\\beta_{1x}$\", color=_colors[0])\n",
    "ax.plot(twiss_coupled[\"s\"], twiss_coupled[\"beta_1y\"], label=r\"$\\beta_{2y}$\", color=_colors[0], alpha=0.2)\n",
    "ax.plot(twiss_coupled[\"s\"], twiss_coupled[\"beta_2x\"], label=r\"$\\beta_{1x}$\", color=_colors[1], alpha=0.2)\n",
    "ax.plot(twiss_coupled[\"s\"], twiss_coupled[\"beta_2y\"], label=r\"$\\beta_{2y}$\", color=_colors[1])\n",
    "ax.legend(loc=\"right\", ncols=1)\n",
    "ax.format(xlabel=\"Position [m]\", ylabel=\"[m/rad]\")"
   ]
  },
  {
   "cell_type": "markdown",
   "id": "0e3f8c0c-9c62-4ef8-b7bd-433df8f32fdb",
   "metadata": {},
   "source": [
    "## Turn-by-turn coordinates "
   ]
  },
  {
   "cell_type": "code",
   "execution_count": null,
   "id": "46f05101-8962-4229-a082-a34c3b8d3973",
   "metadata": {},
   "outputs": [],
   "source": [
    "os.listdir(datadir)"
   ]
  },
  {
   "cell_type": "code",
   "execution_count": null,
   "id": "0a894dd4-fc50-4241-aa2f-aef08de45d32",
   "metadata": {},
   "outputs": [],
   "source": [
    "coords = np.loadtxt(os.path.join(datadir, \"coords.dat\"))\n",
    "coords[:, :4] *= 1000.0  # [m, rad] -> [mm, mrad]\n",
    "coords[:, 5] *= 1000.0  # [MeV] -> [GeV]\n",
    "coords.shape"
   ]
  },
  {
   "cell_type": "code",
   "execution_count": null,
   "id": "1da7d5a8-59f1-4b33-9ca1-22f9fbf72f22",
   "metadata": {},
   "outputs": [],
   "source": [
    "dims = [\"x\", \"xp\", \"y\", \"yp\", \"z\", \"dE\"]\n",
    "units = [\"mm\", \"mrad\", \"mm\", \"m\", \"m\", \"MeV\"]\n",
    "dims_units = [f\"{dim} [{unit}]\" for dim, unit in zip(dims, units)]"
   ]
  },
  {
   "cell_type": "code",
   "execution_count": null,
   "id": "26d93e65-ecdb-4ff8-a4bb-c5fcdf96f862",
   "metadata": {},
   "outputs": [],
   "source": [
    "@interact(\n",
    "    dim1=widgets.Dropdown(options=dims, value=\"x\"),\n",
    "    dim2=widgets.Dropdown(options=dims, value=\"y\"),\n",
    ")\n",
    "def update(dim1, dim2):\n",
    "    axis = [dims.index(dim1), dims.index(dim2)]\n",
    "    fig, ax = pplt.subplots()\n",
    "    ax.scatter(coords[:, axis[0]], coords[:, axis[1]], s=5, color=\"black\")\n",
    "    ax.format(xlabel=dims_units[axis[0]], ylabel=dims_units[axis[1]])\n",
    "    pplt.show()"
   ]
  },
  {
   "cell_type": "code",
   "execution_count": null,
   "id": "0b4e3889-c2dc-43ca-8f35-98ebcec85b29",
   "metadata": {},
   "outputs": [],
   "source": [
    "axis = (0, 1, 2, 3, 4, 5)\n",
    "d = len(axis)\n",
    "grid = psv.CornerGrid(d=d, diag=False, labels=dims_units)\n",
    "grid.plot_cloud(coords[:, axis], kind=\"scatter\", autolim_kws=dict(pad=0.1))"
   ]
  },
  {
   "cell_type": "code",
   "execution_count": null,
   "id": "70fb95fe-9b34-41e1-93fd-36076f9acac4",
   "metadata": {},
   "outputs": [],
   "source": []
  }
 ],
 "metadata": {
  "kernelspec": {
   "display_name": "myenv",
   "language": "python",
   "name": "myenv"
  },
  "language_info": {
   "codemirror_mode": {
    "name": "ipython",
    "version": 3
   },
   "file_extension": ".py",
   "mimetype": "text/x-python",
   "name": "python",
   "nbconvert_exporter": "python",
   "pygments_lexer": "ipython3",
   "version": "3.9.16"
  },
  "toc-autonumbering": true
 },
 "nbformat": 4,
 "nbformat_minor": 5
}
