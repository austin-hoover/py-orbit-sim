{
 "cells": [
  {
   "cell_type": "markdown",
   "id": "74d8bacb-f456-4706-82e4-471994382ad3",
   "metadata": {},
   "source": [
    "# Bunch comparison "
   ]
  },
  {
   "cell_type": "markdown",
   "id": "a47b57a7-6952-49b4-947c-d654e2e02716",
   "metadata": {},
   "source": [
    "This notebook compares the evolution of multiple bunches."
   ]
  },
  {
   "cell_type": "code",
   "execution_count": 2,
   "id": "85920235-a497-464f-9b63-753566914b9e",
   "metadata": {},
   "outputs": [],
   "source": [
    "import os\n",
    "from pprint import pprint\n",
    "import sys\n",
    "\n",
    "from ipywidgets import interact\n",
    "from ipywidgets import widgets\n",
    "from matplotlib import pyplot as plt\n",
    "import numpy as np\n",
    "import pandas as pd\n",
    "import proplot as pplt\n",
    "from scipy import interpolate\n",
    "from tqdm.notebook import tqdm\n",
    "\n",
    "sys.path.append(\"/home/46h/repo/psdist/\")\n",
    "import psdist as ps\n",
    "import psdist.visualization as psv"
   ]
  },
  {
   "cell_type": "code",
   "execution_count": 3,
   "id": "cabc83eb-b12c-48b9-9914-2c811a3fae80",
   "metadata": {},
   "outputs": [],
   "source": [
    "pplt.rc[\"cmap.discrete\"] = False\n",
    "pplt.rc[\"cmap.sequential\"] = \"viridis\"\n",
    "pplt.rc[\"colorbar.width\"] = \"1.2em\"\n",
    "pplt.rc[\"cycle\"] = \"538\"\n",
    "pplt.rc[\"figure.facecolor\"] = \"white\"\n",
    "pplt.rc[\"grid\"] = False"
   ]
  },
  {
   "cell_type": "markdown",
   "id": "6a7e84b5-2ce8-4d1a-a0e0-aab2c3d6ec3b",
   "metadata": {},
   "source": [
    "## Setup"
   ]
  },
  {
   "cell_type": "code",
   "execution_count": 4,
   "id": "b0dc1ac6-ffdf-48aa-a77d-d8f275f1964a",
   "metadata": {},
   "outputs": [],
   "source": [
    "save = False  # whether to save figures"
   ]
  },
  {
   "cell_type": "code",
   "execution_count": 5,
   "id": "bb4452c8-e541-4243-bbe0-94e6ece3b56c",
   "metadata": {},
   "outputs": [
    {
     "ename": "FileNotFoundError",
     "evalue": "[Errno 2] No such file or directory: '../data/'",
     "output_type": "error",
     "traceback": [
      "\u001b[0;31m---------------------------------------------------------------------------\u001b[0m",
      "\u001b[0;31mFileNotFoundError\u001b[0m                         Traceback (most recent call last)",
      "Input \u001b[0;32mIn [5]\u001b[0m, in \u001b[0;36m<cell line: 2>\u001b[0;34m()\u001b[0m\n\u001b[1;32m      1\u001b[0m folder \u001b[38;5;241m=\u001b[39m \u001b[38;5;124m\"\u001b[39m\u001b[38;5;124m../data/\u001b[39m\u001b[38;5;124m\"\u001b[39m\n\u001b[0;32m----> 2\u001b[0m \u001b[38;5;28msorted\u001b[39m(\u001b[43mos\u001b[49m\u001b[38;5;241;43m.\u001b[39;49m\u001b[43mlistdir\u001b[49m\u001b[43m(\u001b[49m\u001b[43mfolder\u001b[49m\u001b[43m)\u001b[49m)\n",
      "\u001b[0;31mFileNotFoundError\u001b[0m: [Errno 2] No such file or directory: '../data/'"
     ]
    }
   ],
   "source": [
    "folder = \"../../data/\"\n",
    "sorted(os.listdir(folder))"
   ]
  },
  {
   "cell_type": "markdown",
   "id": "9b845c31-7fd3-4816-aeb9-ea92c4cb6a24",
   "metadata": {},
   "source": [
    "Label each timestamp (simulation)."
   ]
  },
  {
   "cell_type": "code",
   "execution_count": null,
   "id": "79120f92-9248-4f3e-b41d-9ab9ae1e3d5d",
   "metadata": {},
   "outputs": [],
   "source": [
    "timestamps = {\n",
    "    \"corr\": \"230809033954\",\n",
    "    \"decorr\": \"230809034305\",\n",
    "}\n",
    "\n",
    "labels = list(timestamps.keys())\n",
    "prefixes = dict()\n",
    "for key in timestamps:\n",
    "    prefix = f\"{timestamps[key]}-sim\"\n",
    "    prefixes[key] = prefix"
   ]
  },
  {
   "cell_type": "markdown",
   "id": "fe844657-4743-45dc-9582-03fb16ae4237",
   "metadata": {},
   "source": [
    "Create output directory."
   ]
  },
  {
   "cell_type": "code",
   "execution_count": null,
   "id": "bf0399ef-1b84-4ae4-b700-76f4e582f7f6",
   "metadata": {},
   "outputs": [],
   "source": [
    "outdir = \"../figures/compare_{}\".format(\"-\".join(timestamps.values()))\n",
    "outdir"
   ]
  },
  {
   "cell_type": "code",
   "execution_count": null,
   "id": "772695e1-d634-4906-998d-c10896307115",
   "metadata": {},
   "outputs": [],
   "source": [
    "if not os.path.isdir(outdir):\n",
    "    os.makedirs(outdir)\n",
    "\n",
    "def save_figure(filename, **kws):\n",
    "    if save:\n",
    "        filename = os.path.join(outdir, filename)\n",
    "        plt.savefig(filename, **kws)"
   ]
  },
  {
   "cell_type": "markdown",
   "id": "dbeffe6e-95e4-472a-a539-2e31300949cb",
   "metadata": {},
   "source": [
    "## Scalar history"
   ]
  },
  {
   "cell_type": "markdown",
   "id": "03e6df52-6e92-4d2e-905b-b0a02305a7db",
   "metadata": {},
   "source": [
    "Load node positions."
   ]
  },
  {
   "cell_type": "code",
   "execution_count": null,
   "id": "0dc044cb-a915-470b-91a8-293d932cef03",
   "metadata": {},
   "outputs": [],
   "source": [
    "file = open(os.path.join(folder, f\"{prefixes[labels[0]]}_lattice_nodes.txt\"), \"r\")\n",
    "nodes_dict = dict()\n",
    "nodes_list = list()\n",
    "last = offset = 0.0\n",
    "for i, line in enumerate(file):\n",
    "    if i == 0:\n",
    "        continue\n",
    "    name, position, length = line.rstrip().split()\n",
    "    position = float(position)\n",
    "    length = float(length)\n",
    "    if position < last:\n",
    "        offset = offset + last\n",
    "    last = position\n",
    "    position = position + offset\n",
    "    nodes_dict[name] = [position, length]\n",
    "    nodes_list.append([name, position, length])\n",
    "file.close()"
   ]
  },
  {
   "cell_type": "code",
   "execution_count": null,
   "id": "d58380b1-79e0-434c-a86e-599836216dc8",
   "metadata": {
    "tags": []
   },
   "outputs": [],
   "source": [
    "nodes_list[:10]"
   ]
  },
  {
   "cell_type": "markdown",
   "id": "a893df5e-ff9d-409d-8c4b-4b9a4d723a13",
   "metadata": {},
   "source": [
    "Load scalar history."
   ]
  },
  {
   "cell_type": "code",
   "execution_count": null,
   "id": "653db353-9195-4f32-a5cb-a57aa907013b",
   "metadata": {
    "scrolled": true,
    "tags": []
   },
   "outputs": [],
   "source": [
    "histories = dict()\n",
    "for label, prefix in prefixes.items():\n",
    "    filename = os.path.join(folder, f\"{prefix}_history.dat\")\n",
    "    history = pd.read_csv(filename)\n",
    "    for index in range(history.shape[0]):\n",
    "        Sigma = np.zeros((6, 6))\n",
    "        for i in range(6):\n",
    "            for j in range(i + 1):\n",
    "                Sigma[i, j] = Sigma[j, i] = history.loc[index, f\"cov_{j}-{i}\"]\n",
    "        history.loc[index, \"eps_x\"] = np.sqrt(np.linalg.det(Sigma[0:2, 0:2]))\n",
    "        history.loc[index, \"eps_y\"] = np.sqrt(np.linalg.det(Sigma[2:4, 2:4]))\n",
    "        history.loc[index, \"eps_z\"] = np.sqrt(np.linalg.det(Sigma[4:6, 4:6]))\n",
    "        history.loc[index, \"eps_xy\"] = np.sqrt(np.linalg.det(Sigma[0:4, 0:4]))\n",
    "        history.loc[index, \"eps_xyz\"] = np.sqrt(np.linalg.det(Sigma[:, :]))    \n",
    "    if (\"mean_\" in history.columns) and (\"mean_3\" not in history.columns):  # ?\n",
    "        history.rename(columns={\"mean_\": \"mean_3\"}, inplace=True)\n",
    "    history[\"phi_max\"] = -history[\"z_to_phase_coeff\"] * history[\"z_max\"]\n",
    "    histories[label] = history.copy(deep=True)\n",
    "sorted(history.columns)"
   ]
  },
  {
   "cell_type": "markdown",
   "id": "3afd6e3e-cf70-43b0-8ead-be258b781aba",
   "metadata": {},
   "source": [
    "### First-order moments"
   ]
  },
  {
   "cell_type": "code",
   "execution_count": null,
   "id": "1c7e243f-5b98-417b-9d55-f1bc1c5aec45",
   "metadata": {},
   "outputs": [],
   "source": [
    "linestyles = [\"-\", \"-\"]\n",
    "colors = [\"blue4\", \"red4\"]"
   ]
  },
  {
   "cell_type": "code",
   "execution_count": null,
   "id": "c2d0bd4c-3fc3-4d67-805f-cc0351ddb66f",
   "metadata": {},
   "outputs": [],
   "source": [
    "_dims = [\"x\", \"xp\", \"y\", \"yp\", \"z\", \"w\"]\n",
    "_units = [\"mm\", \"mrad\", \"mm\", \"mrad\", \"mm\", \"MeV\"]\n",
    "for i in range(6):\n",
    "    fig, ax = pplt.subplots(figsize=(5.0, 1.5))\n",
    "    for label, ls, c in zip(labels, linestyles, colors):\n",
    "        ax.plot(\n",
    "            histories[label][\"position\"],\n",
    "            1000.0 * histories[label][f\"mean_{i}\"],\n",
    "            ls=ls,\n",
    "            color=c,\n",
    "            label=label,\n",
    "        )\n",
    "    ax.format(xlabel=\"Position [m]\", ylabel=f\"<{_dims[i]}> [{_units[i]}]\")\n",
    "    ax.legend(loc=\"r\", ncols=1, framealpha=0.0)\n",
    "    save_figure(f\"mean_{i}\")\n",
    "    plt.show()"
   ]
  },
  {
   "cell_type": "markdown",
   "id": "fd5bb2c6-ea69-4007-8ae3-cfe8c3ca9747",
   "metadata": {},
   "source": [
    "### Second-order moments"
   ]
  },
  {
   "cell_type": "code",
   "execution_count": null,
   "id": "ad8f8b32-8fa0-45c8-b29c-08deb7c312cb",
   "metadata": {},
   "outputs": [],
   "source": [
    "for i in range(6):\n",
    "    for j in range(i + 1):\n",
    "        fig, ax = pplt.subplots(figsize=(5.0, 1.5))\n",
    "        for label, ls, c in zip(labels, linestyles, colors):\n",
    "            ax.plot(\n",
    "                histories[label][\"position\"],\n",
    "                1.0e6 * histories[label][f\"cov_{j}-{i}\"],\n",
    "                ls=ls,\n",
    "                color=c,\n",
    "                label=label,\n",
    "            )\n",
    "        ax.format(xlabel=\"Position [m]\")\n",
    "        ax.legend(loc=\"r\", ncols=1, framealpha=0.0)\n",
    "        save_figure(f\"cov_{j}-{i}\")\n",
    "        plt.show()"
   ]
  },
  {
   "cell_type": "markdown",
   "id": "d838a5d7-e306-4dba-95ad-b1ffd2cee679",
   "metadata": {},
   "source": [
    "### Standard deviations"
   ]
  },
  {
   "cell_type": "code",
   "execution_count": null,
   "id": "b3b8a2a1-53cd-4de9-bd75-5a551f115150",
   "metadata": {},
   "outputs": [],
   "source": [
    "for i in range(6):\n",
    "    fig, ax = pplt.subplots(figsize=(5.0, 1.5))\n",
    "    for label, ls, c in zip(labels, linestyles, colors):\n",
    "        ax.plot(\n",
    "            histories[label][\"position\"],\n",
    "            1.0e3 * np.sqrt(histories[label][f\"cov_{i}-{i}\"]),\n",
    "            ls=ls,\n",
    "            color=c,\n",
    "            label=label,\n",
    "        )\n",
    "    dims = [\"x\", \"xp\", \"y\", \"yp\", \"z\", \"dE\"]\n",
    "    units = [\"mm\", \"mrad\", \"mm\", \"mrad\", \"mm\", \"GeV\"]\n",
    "    ax.format(xlabel=\"Position [m]\", ylabel=f\"{dims[i]} rms [{units[i]}]\")\n",
    "    ax.legend(loc=\"r\", ncols=1, framealpha=0.0)\n",
    "    save_figure(f\"rms_{i}\")\n",
    "    plt.show()"
   ]
  },
  {
   "cell_type": "code",
   "execution_count": null,
   "id": "a6a67334-a45f-4d42-bf1e-91b37d95a9d6",
   "metadata": {},
   "outputs": [],
   "source": [
    "fig, ax = pplt.subplots(figsize=(5.0, 1.5))\n",
    "for label, ls, c in zip(labels, linestyles, colors):\n",
    "    ax.plot(\n",
    "        histories[label][\"position\"],\n",
    "        histories[label][\"z_rms_deg\"],\n",
    "        ls=ls,\n",
    "        color=c,\n",
    "        label=label,\n",
    "    )\n",
    "ax.format(xlabel=\"Position [m]\", ylabel=\"z rms [deg]\")\n",
    "ax.legend(loc=\"r\", ncols=1, framealpha=0.0)\n",
    "save_figure(f\"rms_4_deg\")\n",
    "plt.show()"
   ]
  },
  {
   "cell_type": "markdown",
   "id": "04c1719a-c7f8-4cd8-85c0-f4ac0e528a5f",
   "metadata": {},
   "source": [
    "### Emittances "
   ]
  },
  {
   "cell_type": "code",
   "execution_count": null,
   "id": "ddb987f1-799c-44b5-9e7f-095dfee7ed69",
   "metadata": {},
   "outputs": [],
   "source": [
    "for tag in [\"x\", \"y\", \"z\", \"xy\", \"xyz\"]:\n",
    "    factor = 1.0\n",
    "    if tag in [\"x\", \"y\", \"z\"]:  # 2D emittance\n",
    "        factor = 1.00e+06\n",
    "    if tag == \"xy\":  # 4D emittance\n",
    "        factor = 1.00e+12\n",
    "    elif tag == \"xyz\":  # 6D emittance\n",
    "        factor = 1.00e+18\n",
    "\n",
    "    fig, ax = pplt.subplots(figsize=(5.0, 1.75))\n",
    "    for label, ls, c in zip(labels, linestyles, colors):\n",
    "        ax.plot(\n",
    "            histories[label][\"position\"],\n",
    "            factor * histories[label][f\"eps_{tag}\"],\n",
    "            ls=ls,\n",
    "            color=c,\n",
    "            label=label,\n",
    "    )\n",
    "    ax.legend(loc=\"r\", ncols=1, framealpha=0.0)\n",
    "    ax.format(xlabel=\"Position [m]\", ylabel=\"eps_{}\".format(tag))\n",
    "    save_figure(f\"eps_{tag}\")\n",
    "    plt.show()"
   ]
  },
  {
   "cell_type": "markdown",
   "id": "f9499e50-f179-4d5d-ac88-8d89f2fceaf8",
   "metadata": {},
   "source": [
    "### Extrema"
   ]
  },
  {
   "cell_type": "code",
   "execution_count": null,
   "id": "14908938-8ec9-4e64-b065-99226d3383a3",
   "metadata": {},
   "outputs": [],
   "source": [
    "for dim, unit in zip([\"x\", \"y\", \"phi\"], [\"mm\", \"mm\", \"deg\"]):\n",
    "    factor = 1.0\n",
    "    if dim in \"xy\":\n",
    "        factor = 1000.0\n",
    "\n",
    "    fig, ax = pplt.subplots(figsize=(5.0, 1.5))\n",
    "    for i, label in enumerate(labels):\n",
    "        history = histories[label]\n",
    "        history[\"phi_rms\"] = history[\"z_rms_deg\"]\n",
    "        ax.plot(\n",
    "            history[\"position\"],\n",
    "            factor * history[f\"{dim}_max\"],\n",
    "            color=colors[i],\n",
    "            ls=\":\",\n",
    "            label=f\"max ({label})\",\n",
    "        )\n",
    "        ax.plot(\n",
    "            history[\"position\"],\n",
    "            factor * history[f\"{dim}_rms\"],\n",
    "            color=colors[i],\n",
    "            label=f\"rms ({label})\",\n",
    "        )\n",
    "    ax.legend(loc=\"r\", ncols=1, framealpha=0.0)\n",
    "    ax.format(xlabel=\"Position [m]\", ylabel=f\"{dim} [{unit}]\")\n",
    "    save_figure(f\"extrema_rms_{dim}\")\n",
    "    plt.show()"
   ]
  },
  {
   "cell_type": "markdown",
   "id": "b4803de5-b900-4563-b8ad-832d382eb1af",
   "metadata": {},
   "source": [
    "## Phase space distribution "
   ]
  },
  {
   "cell_type": "markdown",
   "id": "60ebcfec-af2a-4451-84fb-3c8d99ed4cb9",
   "metadata": {},
   "source": [
    "### Load bunches "
   ]
  },
  {
   "cell_type": "markdown",
   "id": "a15bbd64-d033-45ca-ba24-145aed4a7126",
   "metadata": {},
   "source": [
    "Collect bunch filenames."
   ]
  },
  {
   "cell_type": "code",
   "execution_count": null,
   "id": "54500f1e-9c15-423c-9969-c8258b0a1c51",
   "metadata": {},
   "outputs": [],
   "source": [
    "bunch_filenames = dict()\n",
    "for key in timestamps:\n",
    "    _filenames = os.listdir(folder)\n",
    "    _filenames = [f for f in _filenames if timestamps[key] in f]\n",
    "    _filenames = [f for f in _filenames if \"bunch\" in f]\n",
    "    _filenames = [f for f in _filenames if \"lostbunch\" not in f]\n",
    "    _filenames = [f for f in _filenames if \"smallbunch\" not in f]\n",
    "    _filenames = sorted(_filenames)\n",
    "    _filenames = [os.path.join(folder, f) for f in _filenames]\n",
    "    bunch_filenames[key] = _filenames\n",
    "    n_frames = len(_filenames)\n",
    "    \n",
    "for key in timestamps:\n",
    "    print(key)\n",
    "    pprint(bunch_filenames[key])"
   ]
  },
  {
   "cell_type": "markdown",
   "id": "c9c21dc5-463d-41e7-9127-d639b1598d39",
   "metadata": {},
   "source": [
    "For each bunch, find its index in the history array. This tells us the position, node, energy, etc. for each bunch. We can then convert z to phi if we want."
   ]
  },
  {
   "cell_type": "code",
   "execution_count": null,
   "id": "3198d811-a438-47ed-a6b9-5c8b20a05e1c",
   "metadata": {},
   "outputs": [],
   "source": [
    "bunch_history_indices = dict()\n",
    "for label in labels:\n",
    "    bunch_history_indices[label] = []\n",
    "    history = histories[label]\n",
    "    for frame, filename in enumerate(bunch_filenames[label]):\n",
    "        node = filename.split(\"bunch_\")[-1].split(\".dat\")[0]\n",
    "        node = node[(node.find(\"_\") + 1):]\n",
    "        if node == \"START\":\n",
    "            index = 0\n",
    "        elif node == \"STOP\":\n",
    "            index = history.shape[0] - 1\n",
    "        else:\n",
    "            index = history[\"node\"].tolist().index(node)\n",
    "        bunch_history_indices[label].append(index)\n",
    "        print(f\"label={label}, frame={frame}, node={node}, history_index={index}\")"
   ]
  },
  {
   "cell_type": "markdown",
   "id": "dc2902ec-bf15-4ead-921e-c9c4525401b4",
   "metadata": {},
   "source": [
    "Load the bunches."
   ]
  },
  {
   "cell_type": "code",
   "execution_count": null,
   "id": "3ccc5a01-fe77-44cf-9d64-023ec813a27e",
   "metadata": {},
   "outputs": [],
   "source": [
    "bunches = dict()\n",
    "columns = [\"x\", \"xp\", \"y\", \"yp\", \"z\", \"w\", \"index\", \"x0\", \"xp0\", \"y0\", \"yp0\", \"z0\", \"w0\"]\n",
    "for label in labels:\n",
    "    bunches[label] = []\n",
    "    history = histories[label]\n",
    "    for filename in tqdm(bunch_filenames[label]):\n",
    "        bunch = np.loadtxt(filename, comments=\"%\")\n",
    "        # Convert [m, rad, m, rad, m, GeV] -> [mm, mrad, mm, mrad, mm, MeV]\n",
    "        bunch[:, :6] *= 1.00e+03\n",
    "        if bunch.shape[1] >= 13:\n",
    "            bunch[:, 7:13] *= 1.00e+03\n",
    "        # Create DataFrame.\n",
    "        bunch = pd.DataFrame(bunch, columns=columns[:bunch.shape[1]])\n",
    "        if \"index\" in bunch.columns:\n",
    "            bunch[\"index\"] = bunch[\"index\"].astype(int)\n",
    "        # Convert z --> phi.\n",
    "        j = bunch_history_indices[label][frame]\n",
    "        z_to_phase_coeff = history.loc[j, \"z_to_phase_coeff\"]\n",
    "        bunch[\"phi\"] = -z_to_phase_coeff * 0.001 * bunch[\"z\"]\n",
    "        if \"z0\" in bunch:\n",
    "            bunch[\"phi0\"] = -z_to_phase_coeff * 0.001 * bunch[\"z0\"]\n",
    "        bunches[label].append(bunch)"
   ]
  },
  {
   "cell_type": "markdown",
   "id": "d2334cc8-f27b-4003-a440-2011ba803876",
   "metadata": {},
   "source": [
    "### 1D projections"
   ]
  },
  {
   "cell_type": "markdown",
   "id": "a496221a-6fcc-4b3d-9582-85349b29ecc7",
   "metadata": {},
   "source": [
    "Decide on units."
   ]
  },
  {
   "cell_type": "code",
   "execution_count": null,
   "id": "753d142d-ed0b-4b24-b493-72fbd58cf43d",
   "metadata": {},
   "outputs": [],
   "source": [
    "use_phi = True\n",
    "dims = [\"x\", \"xp\", \"y\", \"yp\", \"z\", \"w\"]\n",
    "units = [\"mm\", \"mrad\", \"mm\", \"mrad\", \"mm\", \"MeV\"]\n",
    "if use_phi:\n",
    "    dims[4] = \"phi\"\n",
    "    units[4] = \"deg\"\n",
    "dims_units = [f\"{dim} [{unit}]\" for dim, unit in zip(dims, units)]"
   ]
  },
  {
   "cell_type": "markdown",
   "id": "21e4b7e8-1d6b-4233-8c15-7d635c98598d",
   "metadata": {},
   "source": [
    "#### Partial projections [INT]"
   ]
  },
  {
   "cell_type": "code",
   "execution_count": null,
   "id": "99c46f7e-1d22-480d-9c8f-2b3ec2aefd58",
   "metadata": {},
   "outputs": [],
   "source": [
    "psv.cloud.proj1d_interactive_slice(\n",
    "    data=[\n",
    "        [bunch.loc[:, dims].values for bunch in bunches[label]] \n",
    "        for label in labels\n",
    "    ],\n",
    "    dims=dims,\n",
    "    units=units,\n",
    "    slice_type=\"int\",\n",
    "    options=dict(\n",
    "        alpha=True,\n",
    "        auto_plot_res=False,\n",
    "        kind=True,\n",
    "        log=True,\n",
    "        normalize=True,\n",
    "        scale=True,\n",
    "    ),\n",
    "    autolim_kws=dict(pad=0.1),\n",
    "    share_limits=False,\n",
    "    update_limits_on_slice=True,\n",
    "    legend=True,\n",
    "    labels=labels,\n",
    "    colors=colors,\n",
    ")"
   ]
  },
  {
   "cell_type": "markdown",
   "id": "263d4b41-55a0-4180-8528-c9467d753b33",
   "metadata": {},
   "source": [
    "#### Full projections"
   ]
  },
  {
   "cell_type": "markdown",
   "id": "ece8b9db-8f43-4148-8468-67594fa7529f",
   "metadata": {},
   "source": [
    "The following cell saves all 1D projections. "
   ]
  },
  {
   "cell_type": "code",
   "execution_count": null,
   "id": "69f1096d-5be4-4b4a-9d46-d00ae90087e0",
   "metadata": {},
   "outputs": [],
   "source": [
    "if save:\n",
    "    for frame in trange(n_frames):\n",
    "        data = [\n",
    "            ps.cloud.norm_xxp_yyp_zzp(\n",
    "                bunches[label][frame].loc[:, dims].values,\n",
    "                scale_emittance=True\n",
    "            )\n",
    "            for label in labels\n",
    "        ]\n",
    "        for axis in range(6):\n",
    "            profiles, edges = [], []\n",
    "            ymax = -np.inf\n",
    "            for X in data:\n",
    "                points = X[:, axis]\n",
    "                profile, _edges = np.histogram(points / np.std(points), bins=85, density=True)\n",
    "                ymax = max(ymax, np.max(profile))\n",
    "                profiles.append(profile)\n",
    "                edges.append(_edges)\n",
    "    \n",
    "            fig, ax = pplt.subplots(figwidth=3.5, figheight=2.75)\n",
    "            for i, label in enumerate(labels):\n",
    "                psv.plot_profile(\n",
    "                    profile=(profiles[i] / ymax),\n",
    "                    edges=edges[i],\n",
    "                    ax=ax,\n",
    "                    color=colors[i], \n",
    "                    label=label,\n",
    "                    kind=\"step\",\n",
    "                    scale=None,\n",
    "                    fill=False,\n",
    "                    lw=1.5,\n",
    "                )\n",
    "            ax.format(yscale=\"log\", yformatter=\"log\")\n",
    "            ax.format(xlabel=r\"{} / $\\sigma$\".format(dims[axis]))\n",
    "            ax.legend(loc=\"right\", framealpha=0.0, ncols=1)\n",
    "            save_figure(f\"proj1d_{axis}_{frame}\")\n",
    "            plt.close()"
   ]
  },
  {
   "cell_type": "markdown",
   "id": "bb136cbe-c6b7-431f-a89d-697644b1e131",
   "metadata": {},
   "source": [
    "### 2D projections"
   ]
  },
  {
   "cell_type": "markdown",
   "id": "9c2b5cdd-7f19-4bc9-9ebb-bbaa21b2b384",
   "metadata": {},
   "source": [
    "#### Partial projections [INT]"
   ]
  },
  {
   "cell_type": "code",
   "execution_count": null,
   "id": "a7ec6728-5404-44cb-989b-f703fe7fc490",
   "metadata": {},
   "outputs": [],
   "source": [
    "psv.cloud.proj2d_interactive_slice(\n",
    "    data=[\n",
    "        [bunch.loc[:, dims].values for bunch in bunches[label]] \n",
    "        for label in labels\n",
    "    ],\n",
    "    dims=dims,\n",
    "    units=units,\n",
    "    autolim_kws=dict(pad=0.1, zero_center=True, sigma=None, share=None),\n",
    "    options=dict(\n",
    "        log=True,\n",
    "        mask=True,\n",
    "        normalize=True,\n",
    "        ellipse=True,\n",
    "        profiles=True,\n",
    "    ),\n",
    "    share_limits=1,\n",
    "    process_kws=dict(norm=\"max\"),\n",
    "    colorbar=True,\n",
    "    colorbar_kw=dict(tickminor=True),\n",
    "    fig_kws=dict(toplabels=labels),\n",
    "    cmap=pplt.Colormap(\"Blues\", left=0.05),\n",
    ")"
   ]
  },
  {
   "cell_type": "markdown",
   "id": "d32022ff-d4bf-42d0-a3b4-f492dd680714",
   "metadata": {},
   "source": [
    "#### Full projections (side-by-side)"
   ]
  },
  {
   "cell_type": "code",
   "execution_count": null,
   "id": "3854fe28-dcda-4ef9-8f88-7af974859cae",
   "metadata": {},
   "outputs": [],
   "source": [
    "if save:\n",
    "    for frame in trange(n_frames):\n",
    "        data = [\n",
    "            ps.cloud.norm_xxp_yyp_zzp(\n",
    "                bunches[label][frame].loc[:, dims].values, scale_emittance=True\n",
    "            )\n",
    "            for label in labels\n",
    "        ]\n",
    "        limits = [psv.cloud.auto_limits(X, zero_center=True, pad=0.1) for X in data]\n",
    "        limits = psv.combine_limits(limits)\n",
    "        for i in range(6):\n",
    "            for j in range(i):\n",
    "                axis = (j, i)\n",
    "                fig, axs = pplt.subplots(ncols=2)\n",
    "                for ax, label, X in zip(axs, labels, data):\n",
    "                    psv.cloud.plot2d(\n",
    "                        X[:, axis],\n",
    "                        ax=ax,\n",
    "                        kind=\"hist\",\n",
    "                        bins=75,\n",
    "                        limits=[limits[axis[0]], limits[axis[1]]],\n",
    "                        process_kws=dict(norm=\"max\"),\n",
    "                        offset=1.0,\n",
    "                        norm=\"log\",\n",
    "                        rms_ellipse=True,\n",
    "                        rms_ellipse_kws=dict(\n",
    "                            level=[1.0, 2.0, 3.0, 4.0, 5.0],\n",
    "                            color=\"white\",\n",
    "                            alpha=0.2,\n",
    "                            lw=0.4,\n",
    "                        ),\n",
    "                        colorbar=True,\n",
    "                        colorbar_kw=dict(width=\"1.2em\", tickminor=True),\n",
    "                        cmap=pplt.Colormap(\"viridis\"),\n",
    "                    )\n",
    "                axs.format(xlabel=dims[axis[0]], ylabel=dims[axis[1]], toplabels=labels)\n",
    "                axs.format(xlim=limits[axis[0]], ylim=limits[axis[1]])\n",
    "                save_figure(f\"proj2d_{axis[0]}-{axis[1]}_{frame}\")\n",
    "                plt.close()"
   ]
  },
  {
   "cell_type": "markdown",
   "id": "f916d7b4-a40c-4653-95be-93eac3a91b6d",
   "metadata": {},
   "source": [
    "#### Full projections (joint plot, overlay) [INT]"
   ]
  },
  {
   "cell_type": "code",
   "execution_count": null,
   "id": "b74203fd-7f83-4f36-8a81-851d4c8b971d",
   "metadata": {},
   "outputs": [],
   "source": [
    "@interact(\n",
    "    frame=widgets.BoundedIntText(min=0, max=len(bunches[labels[0]])),\n",
    "    dim1=widgets.Dropdown(options=dims, value=dims[0]),\n",
    "    dim2=widgets.Dropdown(options=dims, value=dims[1]),\n",
    "    logvmin=widgets.FloatSlider(min=-7.0, max=0.0, value=-5.0, continuous_update=False),\n",
    "    blur_sigma=widgets.FloatSlider(min=0.0, max=4.0, value=0.0),\n",
    "    nlines=widgets.BoundedIntText(min=3, max=15, value=6),\n",
    "    bins=widgets.BoundedIntText(min=2, max=512, value=64),\n",
    "    log=True,\n",
    "    normalize=True,\n",
    "    alpha=widgets.FloatSlider(min=0.0, max=1.0, value=1.0),\n",
    ")\n",
    "def update_joint_overlay(\n",
    "    frame, dim1, dim2, logvmin, blur_sigma, nlines, bins, log, normalize, alpha\n",
    "):\n",
    "    if dim1 == dim2:\n",
    "        return\n",
    "    axis = [dims.index(dim1), dims.index(dim2)]\n",
    "\n",
    "    data = [bunches[label][frame].iloc[:, axis].values for label in labels]\n",
    "    if normalize:\n",
    "        data = [ps.cloud.norm_xxp_yyp_zzp(X, scale_emittance=True) for X in data]\n",
    "\n",
    "    vmin = 10.0**logvmin\n",
    "    if log:\n",
    "        levels = 10.0 ** np.linspace(logvmin, 1.0, nlines, endpoint=False)\n",
    "    else:\n",
    "        levels = np.linspace(vmin, 1.0, nlines, endpoint=False)\n",
    "\n",
    "    grid = psv.JointGrid(\n",
    "        marg_kws=dict(space=\"2.0em\", width=\"10.0em\"),\n",
    "        marg_fmt_kws_x=dict(yspineloc=\"left\", xspineloc=\"bottom\"),\n",
    "        marg_fmt_kws_y=dict(yspineloc=\"left\", xspineloc=\"bottom\"),\n",
    "        xspineloc=\"bottom\",\n",
    "        yspineloc=\"left\",\n",
    "    )\n",
    "    for i, (label, X) in enumerate(zip(labels, data)):\n",
    "        grid.plot_cloud(\n",
    "            X,\n",
    "            kind=\"contour\",\n",
    "            levels=levels,\n",
    "            bins=bins,\n",
    "            limits=psv.cloud.auto_limits(X, pad=0.1),\n",
    "            marg_kws=dict(kind=\"step\", fill=False, color=colors[i], lw=1.5, alpha=alpha),\n",
    "            marg_hist_kws=dict(bins=bins),\n",
    "            lw=1.5,\n",
    "            colors=colors[i],\n",
    "            process_kws=dict(norm=\"max\", blur_sigma=blur_sigma),\n",
    "            alpha=alpha,\n",
    "        )\n",
    "    # Format panel axes.\n",
    "    ymin = 10.0**-6.0\n",
    "    ymax = 2.0\n",
    "    grid.ax_marg_x.format(yformatter=\"log\", yscale=\"log\", ymin=ymin, ymax=ymax)\n",
    "    grid.ax_marg_y.format(xformatter=\"log\", xscale=\"log\", xmin=ymin, xmax=ymax)\n",
    "    grid.ax.format(xlabel=dim1, ylabel=dim2)\n",
    "    return ax"
   ]
  },
  {
   "cell_type": "markdown",
   "id": "8be1bfc2-fa53-4d9b-b68d-4053dccf9e68",
   "metadata": {},
   "source": [
    "#### Full projections (joint plot, overlay) [SAVE]"
   ]
  },
  {
   "cell_type": "code",
   "execution_count": null,
   "id": "316dfb85-3af7-4b57-acb6-2fef3ba4323b",
   "metadata": {},
   "outputs": [],
   "source": [
    "if save:\n",
    "    for frame in trange(n_frames):\n",
    "        # for i in trange(6):\n",
    "        #     for j in range(i):\n",
    "        for (i, j) in [(1, 0), (3, 2), (2, 0)]:\n",
    "            ax = update_joint_overlay(\n",
    "                frame=frame,\n",
    "                dim1=dims[j],\n",
    "                dim2=dims[i],\n",
    "                logvmin=-5.0,\n",
    "                blur_sigma=1.0,\n",
    "                nlines=5,\n",
    "                bins=64,\n",
    "                log=True,\n",
    "                normalize=True,\n",
    "                alpha=0.9,\n",
    "            )\n",
    "            save_figure(f\"proj2d_joint_{j}-{i}_{frame}.png\", dpi=350)\n",
    "            plt.close()"
   ]
  },
  {
   "cell_type": "markdown",
   "id": "ff561be7-ca07-4121-8483-2c4397b28df8",
   "metadata": {},
   "source": [
    "#### Corner plot (overlay)"
   ]
  },
  {
   "cell_type": "code",
   "execution_count": null,
   "id": "96dc6404-aa28-46f0-9260-5934c7b7872a",
   "metadata": {},
   "outputs": [],
   "source": [
    "if save:\n",
    "    blur_sigma = 1.0\n",
    "    logvmin = -5.0\n",
    "    nlines = 5\n",
    "    bins = 64\n",
    "    alpha = 0.9\n",
    "    lw = 1.2\n",
    "\n",
    "    for frame, X in enumerate(tqdm(bunches[label])):\n",
    "        data = [bunches[label][frame].loc[:, dims].values for label in labels]\n",
    "        grid = psv.CornerGrid(d=6, corner=True, diag_rspine=True, space=1.4, labels=dims)\n",
    "        for i, (label, X) in enumerate(zip(labels, data)):\n",
    "            grid.plot_cloud(\n",
    "                ps.cloud.norm_xxp_yyp_zzp(X, scale_emittance=True),\n",
    "                lower=True, \n",
    "                upper=False,     \n",
    "                autolim_kws=dict(pad=0.1, zero_center=True),\n",
    "                diag_kws=dict(kind=\"step\", fill=False, color=colors[i], lw=lw, alpha=alpha),\n",
    "                process_kws=dict(norm=\"max\", blur_sigma=blur_sigma),\n",
    "                kind=\"contour\",\n",
    "                bins=bins,\n",
    "                levels=(10.0 ** np.linspace(logvmin, 1.0, nlines, endpoint=False)),   \n",
    "                colors=colors[i],\n",
    "                alpha=alpha,\n",
    "                lw=lw,                        \n",
    "            )\n",
    "        grid.format_diag(\n",
    "            yscale=\"log\", \n",
    "            yformatter=\"log\", \n",
    "            ymin=1.00e-06,\n",
    "        )\n",
    "        save_figure(f\"corner_overlay_{frame}\")\n",
    "        plt.close()"
   ]
  },
  {
   "cell_type": "markdown",
   "id": "25f4baa8-5bef-48dc-a283-bdee2bafe686",
   "metadata": {},
   "source": [
    "### Radial density"
   ]
  },
  {
   "cell_type": "markdown",
   "id": "7b0da7cf-5e9d-4047-8ee8-84183a36f143",
   "metadata": {},
   "source": [
    "Here we compute the density within spherical shells."
   ]
  },
  {
   "cell_type": "markdown",
   "id": "050075bb-b775-497b-bbba-798072e1920d",
   "metadata": {},
   "source": [
    "#### Overaly [INT]"
   ]
  },
  {
   "cell_type": "code",
   "execution_count": null,
   "id": "eeab1a3f-d3d8-4e42-a7a8-63040d825f07",
   "metadata": {},
   "outputs": [],
   "source": [
    "@interact(\n",
    "    frame=widgets.BoundedIntText(min=0, max=(len(bunches[labels[0]]) - 1), value=0),\n",
    "    bins=(25, 75),\n",
    "    log=True,\n",
    "    x=True,\n",
    "    px=True,\n",
    "    y=False,\n",
    "    py=False,\n",
    "    z=False,\n",
    "    pz=False,\n",
    ")\n",
    "def update_radial_density(frame, bins, log, x, px, y, py, z, pz):\n",
    "    _bunches = [\n",
    "        ps.cloud.norm_xxp_yyp_zzp(bunches[label][frame].loc[:, dims].values, scale_emittance=True) \n",
    "        for label in labels\n",
    "    ]\n",
    "    axis = tuple([i for i, check in enumerate([x, px, y, py, z, pz]) if check])\n",
    "\n",
    "    fig, ax = pplt.subplots()\n",
    "    for label, _X in zip(labels, _bunches):\n",
    "        hist_r, edges_r = ps.cloud.radial_histogram(_X[:, axis], bins=bins, centers=False)\n",
    "        hist_r = hist_r / np.max(hist_r)\n",
    "        centers_r = ps.utils.centers_from_edges(edges_r)\n",
    "        ax.plot(centers_r, hist_r, drawstyle=\"steps-mid\", label=label)\n",
    "    ax.format(\n",
    "        xmin=0.0,\n",
    "        xlabel=\"radius\", ylabel=\"density\",\n",
    "        title=f\"axis={axis}\", title_kw=dict(fontsize=\"medium\"),\n",
    "    )\n",
    "\n",
    "    ymin = min(hist_r[hist_r > 0])\n",
    "    ax.plot(centers_r, np.exp(-0.5 * (centers_r**2)), color=\"black\", alpha=0.2)\n",
    "    ax.format(ymin=ymin)\n",
    "\n",
    "    if log:\n",
    "        ax.format(yscale=\"log\", yformatter=\"log\")\n",
    "    ax.legend(loc=\"upper right\", ncols=1)\n",
    "    return ax"
   ]
  },
  {
   "cell_type": "markdown",
   "id": "8ed811e5-e3a9-487e-a33e-d9e8af36e1dc",
   "metadata": {},
   "source": [
    "#### Overlay [SAVE]"
   ]
  },
  {
   "cell_type": "code",
   "execution_count": null,
   "id": "38d04d10-8644-40c2-9ba7-f9bfa37fb838",
   "metadata": {},
   "outputs": [],
   "source": [
    "axis_list_all = []\n",
    "for i in range(6):\n",
    "    for j in range(i):\n",
    "        axis_list_all.append((j, i))\n",
    "        for k in range(j):\n",
    "            axis_list_all.append((k, j, i))\n",
    "            for l in range(k):\n",
    "                axis_list_all.append((l, k, j, i))\n",
    "                for m in range(l):\n",
    "                    axis_list_all.append((m, l, k, j, i))\n",
    "axis_list_all.append((0, 1, 2, 3, 4, 5))"
   ]
  },
  {
   "cell_type": "code",
   "execution_count": null,
   "id": "b7c3e631-872b-414e-a285-a24496e96677",
   "metadata": {},
   "outputs": [],
   "source": [
    "# axis_list = axis_list_all\n",
    "axis_list = [\n",
    "    (0, 1),\n",
    "    (2, 3),\n",
    "    (4, 5),\n",
    "    (0, 1, 2, 3),\n",
    "    (0, 1, 4, 5),\n",
    "    (2, 3, 4, 5),\n",
    "    (0, 1, 2, 3, 4, 5),\n",
    "]"
   ]
  },
  {
   "cell_type": "code",
   "execution_count": null,
   "id": "4cc4e618-0bd4-494b-9ddf-2af04aec3ba3",
   "metadata": {},
   "outputs": [],
   "source": [
    "if save:\n",
    "    for frame in range(n_frames):\n",
    "        for axis in tqdm(axis_list):\n",
    "            switches = 6 * [False]\n",
    "            for k in axis:\n",
    "                switches[k] = True\n",
    "            x, xp, y, yp, z, pz = switches\n",
    "            ax = update_radial_density(\n",
    "                frame=frame,\n",
    "                bins=50,\n",
    "                log=True,\n",
    "                x=switches[0],\n",
    "                px=switches[1],\n",
    "                y=switches[2],\n",
    "                py=switches[3],\n",
    "                z=switches[4],\n",
    "                pz=switches[5],\n",
    "            )\n",
    "\n",
    "            _dims = [r\"x\", r\"x'\", \"y\", \"y'\", \"z\", \"z'\"]\n",
    "            xlabel = \"-\".join([_dims[k] for k in axis])\n",
    "            xlabel = f\"Radius ({xlabel})\"\n",
    "            ax.format(yscale=\"log\", yformatter=\"log\", xlabel=xlabel, ylabel=\"Density\", xmin=0.0)\n",
    "            ax.legend(loc=\"upper right\", ncols=1)\n",
    "\n",
    "            tag = \"-\".join([str(k) for k in axis])\n",
    "            save_figure(f\"radial_{tag}_{frame}\")\n",
    "            plt.close()"
   ]
  },
  {
   "cell_type": "markdown",
   "id": "0319adc6-3197-483c-aed3-0351ca6f40d3",
   "metadata": {},
   "source": [
    "## Losses"
   ]
  },
  {
   "cell_type": "markdown",
   "id": "930b163e-fa29-4b68-a13b-b129db622789",
   "metadata": {},
   "source": [
    "### Scalar "
   ]
  },
  {
   "cell_type": "markdown",
   "id": "7277a78e-6920-412a-b154-2d16ca2cf048",
   "metadata": {},
   "source": [
    "NOTE: Apertures here correspond to one MPI node! Fix this!"
   ]
  },
  {
   "cell_type": "code",
   "execution_count": null,
   "id": "c6a64cd6-0673-41b0-a5f1-56e8ff978881",
   "metadata": {},
   "outputs": [],
   "source": [
    "apertures = dict()\n",
    "for key in prefixes:\n",
    "    apertures[key] = pd.read_csv(os.path.join(folder, f\"{prefixes[key]}_losses.txt\"), sep=\" \")\n",
    "    \n",
    "apertures[labels[0]].head()"
   ]
  },
  {
   "cell_type": "markdown",
   "id": "31ed5432-79a8-47db-84bd-55bfadf0bb54",
   "metadata": {},
   "source": [
    "#### Cumulative loss"
   ]
  },
  {
   "cell_type": "markdown",
   "id": "aeac252c-963a-4d4f-bfa9-7ac648983c15",
   "metadata": {},
   "source": [
    "This plot is for all MPI nodes; it is correct."
   ]
  },
  {
   "cell_type": "code",
   "execution_count": null,
   "id": "a3df9031-2bf6-42c0-9d8a-20b9179aefd2",
   "metadata": {},
   "outputs": [],
   "source": [
    "fig, ax = pplt.subplots(figsize=(5.0, 2.0))\n",
    "for label, ls, c in zip(labels, linestyles, colors):\n",
    "    ax.plot(\n",
    "        histories[label][\"position\"],\n",
    "        abs(histories[label][\"n_parts\"] - histories[label].loc[0, \"n_parts\"]),\n",
    "        label=label,\n",
    "        ls=ls,\n",
    "        color=c,\n",
    "    )\n",
    "ax.legend(loc=\"r\", ncols=1, framealpha=0.0)\n",
    "ax.format(xlabel=\"Position [m]\", ylabel=\"Loss (cumulative)\")\n",
    "save_figure(\"loss_cumulative\")\n",
    "plt.show()"
   ]
  },
  {
   "cell_type": "markdown",
   "id": "cebe4995-ca8d-4d4e-a9cc-c3fa63773423",
   "metadata": {},
   "source": [
    "#### Transverse/longitudinal loss"
   ]
  },
  {
   "cell_type": "code",
   "execution_count": null,
   "id": "f02017cc-bbaf-41c4-b219-f8a29eb80f3f",
   "metadata": {},
   "outputs": [],
   "source": [
    "fig, ax = pplt.subplots(figsize=(4.0, 2.0))\n",
    "plot_kws = dict(lw=0, marker=\".\", ms=3.0)\n",
    "for i, label in enumerate(labels):\n",
    "    ax.plot(\n",
    "        apertures[label][\"position\"].values[i:],\n",
    "        apertures[label][\"loss\"].values[i:],\n",
    "        color=colors[i],\n",
    "        ls=linestyles[i],\n",
    "        label=label,\n",
    "        **plot_kws\n",
    "    )\n",
    "ax.legend(loc=\"ur\", ncols=1, framealpha=1.0)\n",
    "ax.format(xlabel=\"Position [m]\", ylabel=\"Loss\")\n",
    "save_figure(f\"loss_aperture\")"
   ]
  },
  {
   "cell_type": "markdown",
   "id": "cf5234c3-21ba-4be4-8ad6-d9417aac24ac",
   "metadata": {},
   "source": [
    "Isolate transverse/longitudinal losses."
   ]
  },
  {
   "cell_type": "code",
   "execution_count": null,
   "id": "910973df-bca9-47d1-b846-543d91299664",
   "metadata": {},
   "outputs": [],
   "source": [
    "fig, axs = pplt.subplots(nrows=2, figsize=(5.0, 3.0), spany=False, aligny=True)\n",
    "for label in labels:\n",
    "    _apertures = apertures[label]\n",
    "    idx_trans, idx_long, idx_long_phase, idx_long_energy = [], [], [], []\n",
    "    for i in range(_apertures.shape[0]):\n",
    "        node = _apertures.loc[i, \"node\"]\n",
    "        loss = _apertures.loc[i, \"loss\"]\n",
    "        if \"phase_aprt\" in node:\n",
    "            idx_long_phase.append(i)\n",
    "            idx_long.append(i)\n",
    "        elif \"energy_aprt\" in node:\n",
    "            idx_long_energy.append(i)\n",
    "            idx_long.append(i)\n",
    "        else:\n",
    "            idx_trans.append(i)\n",
    "    for ax, idx in zip(axs, [idx_trans, idx_long]):\n",
    "        ax.plot(\n",
    "            _apertures[\"position\"].values[idx],\n",
    "            _apertures[\"loss\"].values[idx],\n",
    "            label=label,\n",
    "            **plot_kws\n",
    "        )\n",
    "axs[0].legend(loc=\"r\", ncols=1, framealpha=0.0)\n",
    "axs[0].format(ylabel=\"Loss (trans)\")\n",
    "axs[1].format(ylabel=\"Loss (long)\", xlabel=\"Position [m]\")\n",
    "save_figure(\"loss_aperture_rz\")"
   ]
  },
  {
   "cell_type": "markdown",
   "id": "20d8e706-e143-49af-940a-63ff7bb2518f",
   "metadata": {},
   "source": [
    "Now isolate phase/energy apertures."
   ]
  },
  {
   "cell_type": "code",
   "execution_count": null,
   "id": "cace48b1-ec87-4c86-8c92-2c60c60243fe",
   "metadata": {},
   "outputs": [],
   "source": [
    "fig, axs = pplt.subplots(nrows=2, figsize=(5.0, 3.0), spany=False, aligny=True)\n",
    "for label in labels:\n",
    "    _apertures = apertures[label]\n",
    "    idx_long_phase, idx_long_energy = [], []\n",
    "    for i in range(_apertures.shape[0]):\n",
    "        node = _apertures.loc[i, \"node\"]\n",
    "        loss = _apertures.loc[i, \"loss\"]\n",
    "        if \"phase_aprt\" in node:\n",
    "            idx_long_phase.append(i)\n",
    "        elif \"energy_aprt\" in node:\n",
    "            idx_long_energy.append(i)\n",
    "    for ax, idx in zip(axs, [idx_long_phase, idx_long_energy]):\n",
    "        ax.plot(\n",
    "            _apertures[\"position\"].values[idx],\n",
    "            _apertures[\"loss\"].values[idx],\n",
    "            label=label,\n",
    "            **plot_kws\n",
    "        )\n",
    "axs[0].legend(loc=\"r\", ncols=1, framealpha=0.0)\n",
    "axs[0].format(ylabel=\"Loss (phase)\")\n",
    "axs[1].format(ylabel=\"Loss (energy)\", xlabel=\"Position [m]\")\n",
    "save_figure(\"loss_aperture_phase_energy\")"
   ]
  },
  {
   "cell_type": "markdown",
   "id": "e677bd8d-1a0f-4d8d-bc42-ede4de5aaa9f",
   "metadata": {},
   "source": [
    "#### Aperture node positions"
   ]
  },
  {
   "cell_type": "code",
   "execution_count": null,
   "id": "9df4aed6-2705-4ced-af0b-f03716e0c0e3",
   "metadata": {},
   "outputs": [],
   "source": [
    "label = labels[0]\n",
    "_apertures = apertures[label]\n",
    "idx_long_phase, idx_long_energy, idx_trans = [], [], []\n",
    "for i in range(_apertures.shape[0]):\n",
    "    node = _apertures.loc[i, \"node\"]\n",
    "    loss = _apertures.loc[i, \"loss\"]\n",
    "    if \"phase_aprt\" in node:\n",
    "        idx_long_phase.append(i)\n",
    "    elif \"energy_aprt\" in node:\n",
    "        idx_long_energy.append(i)\n",
    "    else:\n",
    "        idx_trans.append(i)\n",
    "\n",
    "fig, axs = pplt.subplots(nrows=2, figsize=(8.0, 1.5))\n",
    "for ax, idx in zip(axs, [idx_trans, idx_long_phase]):\n",
    "    for i in idx:\n",
    "        ax.axvline(_apertures.loc[i, \"position\"], lw=0.7, color=\"black\")\n",
    "axs.format(\n",
    "    xlabel=\"Position [m]\", \n",
    "    yticks=[],\n",
    "    leftlabels=[\"trans\", \"long\"], \n",
    "    leftlabels_kw=dict(rotation=0, fontweight=\"normal\", fontsize=\"med\"),\n",
    "    xmin=-0.25, xmax=10.0,\n",
    ")\n",
    "\n",
    "# Plot red lines for MEBT RF cavities.\n",
    "for i, (node, position, length) in enumerate(nodes_list):\n",
    "    if node in [f\"MEBT_RF:Bnch0{j}:Rg01\" for j in range(1, 5)]:\n",
    "        ax.axvline(position, color=\"red\")\n",
    "save_figure(\"loss_aperture_locations\")"
   ]
  },
  {
   "cell_type": "markdown",
   "id": "a381258c-71ae-41e8-9033-f21bdd6c4faa",
   "metadata": {},
   "source": [
    "### Phase space distribution"
   ]
  },
  {
   "cell_type": "markdown",
   "id": "21d4fc63-3b2d-4952-ab50-6be73f3a1b40",
   "metadata": {},
   "source": [
    "Get lost bunch filenames."
   ]
  },
  {
   "cell_type": "code",
   "execution_count": null,
   "id": "b814182b-bad7-41e2-b124-ae86ea6811ed",
   "metadata": {},
   "outputs": [],
   "source": [
    "filenames = dict()\n",
    "for label in labels:\n",
    "    _filenames = [f for f in os.listdir(folder)] \n",
    "    _filenames = [f for f in _filenames if timestamps[label] in f]\n",
    "    _filenames = [f for f in _filenames if \"lostbunch\" in f]\n",
    "    _filenames = [os.path.join(folder, f) for f in _filenames]\n",
    "    filenames[label] = _filenames[0]\n",
    "filenames"
   ]
  },
  {
   "cell_type": "markdown",
   "id": "6b92858c-615a-45b3-acb3-51fdb717e7b0",
   "metadata": {},
   "source": [
    "Load lost bunches."
   ]
  },
  {
   "cell_type": "code",
   "execution_count": null,
   "id": "fd98bdc8-7ae0-4c23-80f5-92a980483b25",
   "metadata": {},
   "outputs": [],
   "source": [
    "lostbunches = dict()\n",
    "for label in labels:\n",
    "    lostbunch = np.loadtxt(filenames[label], comments=\"%\")\n",
    "    lostbunch[:, :6] *= 1000.0    \n",
    "    lostbunch = pd.DataFrame(lostbunch, columns=[\"x\", \"xp\", \"y\", \"yp\", \"z\", \"dE\", \"s\", \"index\"])\n",
    "    lostbunch[\"index\"] = lostbunch[\"index\"].astype(int)\n",
    "    lostbunch = lostbunch.sort_values(\"s\")\n",
    "    z_to_phase_interp = interpolate.interp1d(\n",
    "        histories[label][\"position\"], histories[label][\"z_to_phase_coeff\"], kind=\"linear\"\n",
    "    )\n",
    "    lostbunch[\"phi\"] = -z_to_phase_interp(lostbunch[\"s\"]) * 0.001 * lostbunch[\"z\"]\n",
    "    lostbunches[label] = lostbunch\n",
    "    \n",
    "lostbunches[labels[0]]"
   ]
  },
  {
   "cell_type": "markdown",
   "id": "2ea0b301-7bcc-4cd0-a88d-8153f1adb554",
   "metadata": {},
   "source": [
    "Check lost particle positions against number of surviving particles."
   ]
  },
  {
   "cell_type": "code",
   "execution_count": null,
   "id": "400aa711-5693-44f0-bd51-69596cb44b3b",
   "metadata": {},
   "outputs": [],
   "source": [
    "for label in labels:\n",
    "    history = histories[label]\n",
    "    fig, ax = pplt.subplots(figsize=(5.0, 1.7))\n",
    "    ax.plot(history[\"position\"], abs(history[\"n_parts\"] - history.loc[0, \"n_parts\"]), color=\"black\")\n",
    "    ax.format(xlabel=\"Position [m]\", ylabel=\"Loss (cumulative)\")\n",
    "    for s in lostbunch[\"s\"].values:\n",
    "        ax.axvline(s, color=\"red2\")\n",
    "    save_figure(\"loss_check_positions\")\n",
    "    print(label)\n",
    "    plt.show()"
   ]
  },
  {
   "cell_type": "markdown",
   "id": "d8dda563-f70e-4f9e-853a-8428c38c8bb4",
   "metadata": {},
   "source": [
    "#### Lost r-z coordinates"
   ]
  },
  {
   "cell_type": "code",
   "execution_count": null,
   "id": "cd3d682f-42f3-4ee8-95a1-63b1ebe917fb",
   "metadata": {},
   "outputs": [],
   "source": [
    "for label in labels:\n",
    "    lostbunch = lostbunches[label]\n",
    "    lostbunch[\"r\"] = np.sqrt(lostbunch[\"x\"]**2 + lostbunch[\"y\"]**2)\n",
    "\n",
    "fig, axs = pplt.subplots(ncols=2)\n",
    "for ax, label in zip(axs, labels):\n",
    "    lostbunch = lostbunches[label]\n",
    "    ax.scatter(\n",
    "        lostbunch[\"phi\"], \n",
    "        lostbunch[\"r\"], \n",
    "        c=lostbunch[\"s\"], \n",
    "        cmap=pplt.Colormap(\"blues\", left=0.1), \n",
    "        s=8.0,\n",
    "        colorbar=True,\n",
    "        colorbar_kw=dict(width=\"1.1em\", label=\"s [m]\"),\n",
    "    )\n",
    "    ax.format(xlabel=r\"phi [deg]\", ylabel=\"radius [mm]\", title=label)\n",
    "save_figure(\"loss_rz\")"
   ]
  },
  {
   "cell_type": "markdown",
   "id": "ca9cd53a-78d2-4349-b6c0-088ef96bc750",
   "metadata": {},
   "source": [
    "#### Transverse/longitudinal "
   ]
  },
  {
   "cell_type": "markdown",
   "id": "465f0a7a-43a3-4231-9349-8610d33bbf22",
   "metadata": {},
   "source": [
    "Group lost particles into \"small z\" and \"large z\" groups to isolate transverse vs. longitudinal losses."
   ]
  },
  {
   "cell_type": "code",
   "execution_count": null,
   "id": "041f70e4-56ee-4ef6-b35c-0279f586d034",
   "metadata": {},
   "outputs": [],
   "source": [
    "phi_max = 89.0  # [deg]\n",
    "lost_index = dict()\n",
    "for label in labels:\n",
    "    lostbunch = lostbunches[label]\n",
    "    index = lostbunch[\"index\"].values\n",
    "    abs_phi = np.abs(lostbunch[\"phi\"].values)\n",
    "    lost_index[label] = {\n",
    "        \"all\": index,\n",
    "        \"transverse\": index[abs_phi <= phi_max],\n",
    "        \"longitudinal\": index[abs_phi > phi_max],\n",
    "    }"
   ]
  },
  {
   "cell_type": "markdown",
   "id": "6ece9816-0d36-4486-80c2-65240e700f2a",
   "metadata": {},
   "source": [
    "Plot loss position histogram."
   ]
  },
  {
   "cell_type": "code",
   "execution_count": null,
   "id": "b41f4c50-b069-4e96-b226-1bb971e89a44",
   "metadata": {},
   "outputs": [],
   "source": [
    "smin = 0.0  # start at lattice entrance\n",
    "smax = nodes_list[-1][1]  # stop at last node\n",
    "bins = np.linspace(smin, smax, 50)\n",
    "\n",
    "for log in [False, True]:\n",
    "    fig, axs = pplt.subplots(\n",
    "        figsize=(5.0, 2.75),\n",
    "        nrows=3,\n",
    "        spany=False,\n",
    "        aligny=True,\n",
    "        height_ratios=[0.5, 1.0, 1.0],\n",
    "        hspace=[0.0, None],\n",
    "    )\n",
    "    for label, ls, c in zip(labels, linestyles, [\"blue5\", \"pink5\"]):\n",
    "        lostbunch = lostbunches[label]\n",
    "        for row, ax in enumerate(axs[1:]):\n",
    "            if row == 0:\n",
    "                idx = np.abs(lostbunch[\"phi\"].values) <= phi_max\n",
    "                ax.format(ylabel=\"Loss (xy)\")\n",
    "            else:\n",
    "                idx = np.abs(lostbunch[\"phi\"].values) > phi_max\n",
    "                ax.format(ylabel=\"Loss (z)\")\n",
    "            ax.hist(\n",
    "                lostbunch.loc[idx, \"s\"].values,\n",
    "                bins=bins,\n",
    "                histtype=\"step\",\n",
    "                lw=1.5,\n",
    "                alpha=0.99,\n",
    "                label=label,\n",
    "            )\n",
    "    axs[1].legend(loc=\"r\", ncols=1, framealpha=0.0)\n",
    "    \n",
    "    # Add labels for each linac sequence.\n",
    "    sequence_names = [\n",
    "        \"MEBT\", \n",
    "        \"DTL1\", \n",
    "        \"DTL2\", \n",
    "        \"DTL3\", \n",
    "        \"DTL4\", \n",
    "        \"DTL5\", \n",
    "        \"DTL6\",\n",
    "    ]\n",
    "    sequences = []\n",
    "    for sequence_name in sequence_names:\n",
    "        if not any((sequence_name in node) for (node, _, _) in nodes_list):\n",
    "            continue\n",
    "        start = nodes_dict[f\"{sequence_name}_START\"][0]\n",
    "        stop = nodes_dict[f\"{sequence_name}_END\"][0]\n",
    "        sequences.append([start, stop, sequence_name])\n",
    "            \n",
    "    cmap = pplt.Colormap(\"mono\")\n",
    "    _colors = [cmap(i) for i in np.linspace(0.15, 0.8, len(sequences))]\n",
    "    for i, (start, stop, label) in enumerate(sequences):\n",
    "        mid = 0.5 * (start + stop)\n",
    "        axs[0].plot([start, stop], [0.0, 0.0], color=_colors[i], lw=5)\n",
    "        axs[0].annotate(\n",
    "            label,\n",
    "            xy=(mid, 0.5),\n",
    "            horizontalalignment=\"center\",\n",
    "            color=_colors[i],\n",
    "            fontweight=\"normal\",\n",
    "            fontsize=\"med-small\",\n",
    "        )\n",
    "    \n",
    "    axs[0].format(xspineloc=\"neither\", yspineloc=\"neither\", ylim=(-1.0, 1.0))\n",
    "    axs.format(xmin=smin, xmax=smax, xlabel=\"Position [m]\")\n",
    "    if log:\n",
    "        axs[1:].format(yscale=\"log\", yformatter=None)\n",
    "    save_figure(f\"loss_position_hist_rz_seq_{log}\")\n",
    "    plt.show()"
   ]
  },
  {
   "cell_type": "markdown",
   "id": "532028ca-85a1-492a-9d19-43cd30adcca2",
   "metadata": {},
   "source": [
    "### Location in initial bunch "
   ]
  },
  {
   "cell_type": "markdown",
   "id": "b9864a53-c419-4eef-87ee-a85a4e1c9b27",
   "metadata": {},
   "source": [
    "Plot the phase space projections of the initial bunch with lost particles highlighted."
   ]
  },
  {
   "cell_type": "markdown",
   "id": "f05fb1f4-3ec0-4268-9ed6-b3f12aa49fa6",
   "metadata": {},
   "source": [
    "#### 2D projections"
   ]
  },
  {
   "cell_type": "code",
   "execution_count": null,
   "id": "50d601b1-8c05-4f3e-a623-203336b47cab",
   "metadata": {},
   "outputs": [],
   "source": [
    "n_lost_max = max(lostbunches[label].shape[0] for label in labels)\n",
    "\n",
    "@interact(\n",
    "    frame=widgets.BoundedIntText(min=0, max=n_frames-1, value=0),\n",
    "    dim1=widgets.Dropdown(options=dims, value=dims[-2]),\n",
    "    dim2=widgets.Dropdown(options=dims, value=dims[-1]),\n",
    "    normalize=False,\n",
    "    mask=True,\n",
    "    log=True,\n",
    "    bins=widgets.BoundedIntText(min=32, max=200, value=64, continuous_update=False),\n",
    "    size=widgets.FloatSlider(min=1.0, max=15.0, value=4.0, continuous_update=False),\n",
    "    nplot=widgets.IntSlider(\n",
    "        min=0, max=n_lost_max, continuous_update=False, value=n_lost_max\n",
    "    ),\n",
    "    plot_xy=True,\n",
    "    plot_z=True,\n",
    ")\n",
    "def update(frame, dim1, dim2, normalize, mask, log, bins, size, nplot, plot_xy, plot_z):\n",
    "    if dim1 == dim2:\n",
    "        return\n",
    "    axis = [dims.index(dim) for dim in [dim1, dim2]]\n",
    "    \n",
    "    data = [bunches[label][frame].loc[:, [dim1, dim2]].values for label in labels]\n",
    "    if normalize:\n",
    "        data = [ps.cloud.norm_xxp_yyp_zzp(X, scale_emittance=True) for X in data]\n",
    "    limits = psv.combine_limits([psv.cloud.auto_limits(X, pad=0.0, zero_center=False) for X in data])\n",
    "\n",
    "    fig, axs = pplt.subplots(ncols=2)\n",
    "    for ax, label, X in zip(axs, labels, data):\n",
    "        psv.cloud.plot2d(\n",
    "            X,\n",
    "            ax=ax,\n",
    "            bins=bins,\n",
    "            limits=limits,\n",
    "            process_kws=dict(norm=\"max\"),\n",
    "            offset=(0.0 if mask else 1.0),\n",
    "            mask=mask,\n",
    "            vmax=1.0,\n",
    "            cmap=pplt.Colormap(\"mono\", left=0.04, right=0.9),\n",
    "            colorbar=True,\n",
    "            colorbar_kw=dict(tickminor=True, width=\"1.2em\"),\n",
    "            norm=(\"log\" if log else None),\n",
    "        )\n",
    "        bunch = bunches[label][frame]\n",
    "        if plot_xy:\n",
    "            if frame == 0:\n",
    "                idx = lost_index[label][\"transverse\"]\n",
    "            else:\n",
    "                idx = []\n",
    "                for i in lost_index[label][\"transverse\"]:\n",
    "                    _index = bunch[bunch[\"index\"] == i].index\n",
    "                    if len(_index) == 1:\n",
    "                        idx.append(int(_index[0]))                \n",
    "            idx = idx[:nplot]\n",
    "            psv.cloud.plot2d(\n",
    "                X[idx, :],\n",
    "                ax=ax,\n",
    "                kind=\"scatter\",\n",
    "                c=\"pink\",\n",
    "                s=size,\n",
    "                label=\"lost_xy\",\n",
    "            )\n",
    "        if plot_z:\n",
    "            if frame == 0:\n",
    "                idx = lost_index[label][\"longitudinal\"]\n",
    "            else:\n",
    "                idx = []\n",
    "                for i in lost_index[label][\"longitudinal\"]:\n",
    "                    _index = bunch[bunch[\"index\"] == i].index\n",
    "                    if len(_index) == 1:\n",
    "                        idx.append(int(_index[0]))                \n",
    "            idx = idx[:nplot]\n",
    "            psv.cloud.plot2d(\n",
    "                X[idx, :],\n",
    "                ax=ax,\n",
    "                kind=\"scatter\",\n",
    "                c=\"green\",\n",
    "                s=size,\n",
    "                label=\"lost_z\",\n",
    "            )\n",
    "    axs.format(xlabel=dims[axis[0]], ylabel=dims[axis[1]])\n",
    "    axs.format(xlim=limits[0], ylim=limits[1], toplabels=labels)\n",
    "    axs[1].legend(loc=\"r\", ncols=1, handlelength=1.0)\n",
    "    plt.show()"
   ]
  },
  {
   "cell_type": "markdown",
   "id": "d93a23bf-9675-49fe-8862-245596f269a4",
   "metadata": {},
   "source": [
    "#### Corner plot "
   ]
  },
  {
   "cell_type": "code",
   "execution_count": null,
   "id": "b7551287-9c52-4c68-9326-d429089f0899",
   "metadata": {},
   "outputs": [],
   "source": [
    "if save:\n",
    "    for label in labels:\n",
    "        print(label)\n",
    "\n",
    "        grid = psv.CornerGrid(d=6, corner=True, labels=dims_units, diag_rspine=True, space=1.4, diag_share=False)\n",
    "\n",
    "        X = bunches[label][0].loc[:, dims].values\n",
    "        grid.plot_cloud(\n",
    "            X,\n",
    "            bins=85,\n",
    "            norm=\"log\",\n",
    "            cmap=pplt.Colormap(\"mono\", left=0.04, right=0.7),\n",
    "        )    \n",
    "        for color, key in zip([\"pink\", \"green\"], [\"transverse\", \"longitudinal\"]):\n",
    "            grid.plot_cloud(\n",
    "                X[lost_index[label][key], :],\n",
    "                kind=\"scatter\",\n",
    "                diag=False,\n",
    "                c=color,\n",
    "                s=1.0,\n",
    "            )\n",
    "        grid.format_diag(yscale=\"log\", yformatter=\"log\", ymin=(10.0 ** -6.0))\n",
    "\n",
    "        ## Add ylabel to upper-left histogram.\n",
    "        ## Does not work if yspine is on the right! Fix this in CornerGrid.\n",
    "        # grid.axs[0, 0].format(ylabel=\"x [mm]\") \n",
    "\n",
    "        save_figure(f\"loss_initbunch_corner_{label}\")\n",
    "        plt.show()"
   ]
  },
  {
   "cell_type": "markdown",
   "id": "ef572082-1a55-4221-8c48-d3b78a3a919b",
   "metadata": {},
   "source": [
    "#### Radial distribution [INT]"
   ]
  },
  {
   "cell_type": "markdown",
   "id": "031c6407-3e71-441a-acbf-782d41613629",
   "metadata": {},
   "source": [
    "The following plot is unnormalized."
   ]
  },
  {
   "cell_type": "code",
   "execution_count": null,
   "id": "5c7d8884-62bd-4fe5-8c9e-31bd37961a50",
   "metadata": {},
   "outputs": [],
   "source": [
    "_lostbunches = []\n",
    "for label in labels:\n",
    "    bunch = bunches[label][0]\n",
    "    X = bunch.loc[:, dims].values\n",
    "\n",
    "    Sigma = np.cov(X.T)\n",
    "    (eps_x, eps_y, eps_z) = ps.ap.apparent_emittance(Sigma)\n",
    "    V = ps.ap.norm_matrix(*ps.ap.twiss(Sigma))\n",
    "    A = np.sqrt(np.diag([eps_x, eps_x, eps_y, eps_y, eps_z, eps_z]))\n",
    "\n",
    "    index = lost_index[label][\"transverse\"]\n",
    "    X_lost = ps.cloud.transform_linear(X[index, :], np.linalg.inv(np.matmul(V, A)))\n",
    "    _lostbunches.append(X_lost)\n",
    "\n",
    "\n",
    "@interact(\n",
    "    bins=(10, 30),\n",
    "    autobin=False,\n",
    "    log=False,\n",
    "    density=True,\n",
    "    x=True,\n",
    "    px=True,\n",
    "    y=False,\n",
    "    py=False,\n",
    "    z=False,\n",
    "    pz=False,\n",
    ")\n",
    "def update(bins, autobin, log, density, x, px, y, py, z, pz):\n",
    "    checks = [x, px, y, py, z, pz]\n",
    "    axis = tuple([i for i, check in enumerate(checks) if check])\n",
    "    bins = \"auto\" if autobin else bins\n",
    "    ylabel = \"Density (unnormalized)\" if density else \"Count\"\n",
    "\n",
    "    fig, ax = pplt.subplots()\n",
    "    for label, X in zip(labels, _lostbunches):\n",
    "        radii = ps.cloud.get_radii(X[:, axis])\n",
    "        ax.hist(radii, bins=bins, density=density, range=(0.0, np.max(radii)), histtype=\"step\", label=label, lw=1.5)\n",
    "    if log:\n",
    "        ax.format(yscale=\"log\", yformatter=\"log\")\n",
    "\n",
    "    ax.legend(loc=\"r\", ncols=1, framealpha=0.0)\n",
    "        \n",
    "    _dims = [\"x\", \"x'\", \"y\", \"y'\", \"z\", \"z'\"]\n",
    "    xlabel = \"-\".join([_dims[k] for k in axis])\n",
    "    xlabel = f\"Radius ({xlabel})\"\n",
    "    ax.format(ylabel=ylabel, xlabel=xlabel, title=\"Lost particles in initial bunch\")\n",
    "    plt.show()"
   ]
  },
  {
   "cell_type": "markdown",
   "id": "89e8d7dd-be67-480d-a3ca-311e682f7f45",
   "metadata": {},
   "source": [
    "#### Radial distribution [SAVE]"
   ]
  },
  {
   "cell_type": "code",
   "execution_count": null,
   "id": "83d00698-9d0c-447b-9eb8-c5c915b2333e",
   "metadata": {},
   "outputs": [],
   "source": [
    "if save:\n",
    "    for axis in [\n",
    "        (0, 1),\n",
    "        (2, 3),\n",
    "        (4, 5),\n",
    "        (0, 1, 2, 3),\n",
    "        (0, 1, 4, 5),\n",
    "        (2, 3, 4, 5),\n",
    "        (0, 1, 2, 3, 4, 5),\n",
    "    ]:\n",
    "        fig, ax = pplt.subplots()\n",
    "        for label, _X in zip(labels, _lostbunches):\n",
    "            radii = ps.cloud.get_radii(_X[:, axis])\n",
    "            ax.hist(radii, bins=20, density=True, range=(0.0, np.max(radii)), histtype=\"step\", label=label, lw=1.5)\n",
    "    \n",
    "        _dims = [\"x\", \"x'\", \"y\", \"y'\", \"z\", \"z'\"]\n",
    "        xlabel = \"-\".join([_dims[k] for k in axis])\n",
    "        xlabel = f\"Radius ({xlabel})\"\n",
    "        ax.format(ylabel=\"Density (unnormalized)\", xlabel=xlabel, title=\"Lost particles in initial bunch\")\n",
    "        ax.legend(loc=\"upper right\", ncols=1)\n",
    "    \n",
    "        tag = \"-\".join([str(k) for k in axis])\n",
    "        save_figure(f\"loss_initbunch_radial_{tag}\")\n",
    "        plt.close()"
   ]
  },
  {
   "cell_type": "code",
   "execution_count": null,
   "id": "4015f062-0ba8-4236-8bff-93dc683687bd",
   "metadata": {},
   "outputs": [],
   "source": []
  }
 ],
 "metadata": {
  "kernelspec": {
   "display_name": "myenv",
   "language": "python",
   "name": "myenv"
  },
  "language_info": {
   "codemirror_mode": {
    "name": "ipython",
    "version": 3
   },
   "file_extension": ".py",
   "mimetype": "text/x-python",
   "name": "python",
   "nbconvert_exporter": "python",
   "pygments_lexer": "ipython3",
   "version": "3.9.16"
  },
  "toc-autonumbering": true
 },
 "nbformat": 4,
 "nbformat_minor": 5
}
