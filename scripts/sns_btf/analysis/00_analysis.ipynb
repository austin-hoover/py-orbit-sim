{
 "cells": [
  {
   "cell_type": "markdown",
   "id": "74d8bacb-f456-4706-82e4-471994382ad3",
   "metadata": {},
   "source": [
    "# Simulation analysis"
   ]
  },
  {
   "cell_type": "markdown",
   "id": "5fa34f3b-0061-429a-96d7-0cc9b04ad330",
   "metadata": {},
   "source": [
    "This notebook analyzes the evolution of a single bunch."
   ]
  },
  {
   "cell_type": "code",
   "execution_count": null,
   "id": "85920235-a497-464f-9b63-753566914b9e",
   "metadata": {
    "tags": []
   },
   "outputs": [],
   "source": [
    "import os\n",
    "from pprint import pprint\n",
    "import sys\n",
    "\n",
    "from ipywidgets import interact\n",
    "from ipywidgets import widgets\n",
    "from matplotlib import pyplot as plt\n",
    "import numpy as np\n",
    "import pandas as pd\n",
    "import proplot as pplt\n",
    "from scipy import interpolate\n",
    "from tqdm.notebook import tqdm\n",
    "from tqdm.notebook import trange\n",
    "\n",
    "sys.path.append(\"/home/46h/repo/psdist/\")\n",
    "import psdist as ps\n",
    "import psdist.visualization as psv"
   ]
  },
  {
   "cell_type": "code",
   "execution_count": null,
   "id": "b6430276-142a-41b7-bf31-c0efab61954c",
   "metadata": {
    "tags": []
   },
   "outputs": [],
   "source": [
    "pplt.rc[\"cmap.discrete\"] = False\n",
    "pplt.rc[\"cmap.sequential\"] = \"viridis\"\n",
    "pplt.rc[\"colorbar.width\"] = \"1.2em\"\n",
    "pplt.rc[\"cycle\"] = \"538\"\n",
    "pplt.rc[\"figure.facecolor\"] = \"white\"\n",
    "pplt.rc[\"grid\"] = False"
   ]
  },
  {
   "cell_type": "markdown",
   "id": "6a7e84b5-2ce8-4d1a-a0e0-aab2c3d6ec3b",
   "metadata": {},
   "source": [
    "## Setup"
   ]
  },
  {
   "cell_type": "code",
   "execution_count": null,
   "id": "0140367c-645b-4bd5-ab5f-35057b268b4c",
   "metadata": {},
   "outputs": [],
   "source": [
    "save = False"
   ]
  },
  {
   "cell_type": "code",
   "execution_count": null,
   "id": "40f8f124-2243-415f-8531-c4e416be6675",
   "metadata": {
    "tags": []
   },
   "outputs": [],
   "source": [
    "timestamp = 231031091651\n",
    "folder = f\"../../data_output/sns_btf/sim/{timestamp}\"\n",
    "sorted(os.listdir(folder))"
   ]
  },
  {
   "cell_type": "code",
   "execution_count": null,
   "id": "25b85dba-9bcf-4aa6-a5f0-7379632c2fd2",
   "metadata": {},
   "outputs": [],
   "source": [
    "outdir = f\"../figures/{timestamp}/\"\n",
    "if not os.path.isdir(outdir):\n",
    "    os.makedirs(outdir)\n",
    "\n",
    "def save_figure(filename):\n",
    "    if not save:\n",
    "        return\n",
    "    filename = os.path.join(outdir, filename)\n",
    "    plt.savefig(filename)"
   ]
  },
  {
   "cell_type": "markdown",
   "id": "dbeffe6e-95e4-472a-a539-2e31300949cb",
   "metadata": {},
   "source": [
    "## Scalar history"
   ]
  },
  {
   "cell_type": "markdown",
   "id": "03e6df52-6e92-4d2e-905b-b0a02305a7db",
   "metadata": {},
   "source": [
    "Load node positions."
   ]
  },
  {
   "cell_type": "code",
   "execution_count": null,
   "id": "0dc044cb-a915-470b-91a8-293d932cef03",
   "metadata": {
    "tags": []
   },
   "outputs": [],
   "source": [
    "file = open(os.path.join(folder, f\"lattice_nodes.txt\"), \"r\")\n",
    "nodes_dict = dict()\n",
    "nodes_list = list()\n",
    "last = offset = 0.0\n",
    "for i, line in enumerate(file):\n",
    "    if i == 0:\n",
    "        continue\n",
    "    name, position, length = line.rstrip().split()\n",
    "    position = float(position)\n",
    "    length = float(length)\n",
    "    if position < last:\n",
    "        offset = offset + last\n",
    "    last = position\n",
    "    position = position + offset\n",
    "    nodes_dict[name] = [position, length]\n",
    "    nodes_list.append([name, position, length])\n",
    "file.close()"
   ]
  },
  {
   "cell_type": "markdown",
   "id": "a893df5e-ff9d-409d-8c4b-4b9a4d723a13",
   "metadata": {},
   "source": [
    "Load scalar history."
   ]
  },
  {
   "cell_type": "code",
   "execution_count": null,
   "id": "96a4ef96-195b-4711-9c97-cfb571a1dd1e",
   "metadata": {},
   "outputs": [],
   "source": [
    "filename = os.path.join(folder, f\"history.dat\")\n",
    "history = pd.read_csv(filename)\n",
    "for index in range(history.shape[0]):\n",
    "    Sigma = np.zeros((6, 6))\n",
    "    for i in range(6):\n",
    "        for j in range(i + 1):\n",
    "            Sigma[i, j] = Sigma[j, i] = history.loc[index, f\"cov_{j}-{i}\"]\n",
    "    history.loc[index, \"eps_x\"] = np.sqrt(np.linalg.det(Sigma[0:2, 0:2]))\n",
    "    history.loc[index, \"eps_y\"] = np.sqrt(np.linalg.det(Sigma[2:4, 2:4]))\n",
    "    history.loc[index, \"eps_z\"] = np.sqrt(np.linalg.det(Sigma[4:6, 4:6]))\n",
    "    history.loc[index, \"eps_xy\"] = np.sqrt(np.linalg.det(Sigma[0:4, 0:4]))\n",
    "    history.loc[index, \"eps_xyz\"] = np.sqrt(np.linalg.det(Sigma[:, :]))    \n",
    "if (\"mean_\" in history.columns) and (\"mean_3\" not in history.columns):  # ?\n",
    "    history.rename(columns={\"mean_\": \"mean_3\"}, inplace=True)\n",
    "history[\"phi_max\"] = -history[\"z_to_phase_coeff\"] * history[\"z_max\"]\n",
    "history.info()"
   ]
  },
  {
   "cell_type": "markdown",
   "id": "07090934-ebbb-410c-aecd-70d64cdfac8c",
   "metadata": {},
   "source": [
    "### Energy "
   ]
  },
  {
   "cell_type": "code",
   "execution_count": null,
   "id": "1cc4d04e-cb8f-4bfc-b925-b3d1e83966ee",
   "metadata": {
    "tags": []
   },
   "outputs": [],
   "source": [
    "fig, ax = pplt.subplots()\n",
    "ax.plot(history[\"position\"], history[\"energy\"], color=\"black\")\n",
    "ax.format(xlabel=\"Position [m]\", ylabel=\"Energy [GeV]\")\n",
    "save_figure(\"energy\")"
   ]
  },
  {
   "cell_type": "markdown",
   "id": "4b4e4eb2-c9fe-4255-93e1-2f7bcd55a70b",
   "metadata": {},
   "source": [
    "### First-order moments "
   ]
  },
  {
   "cell_type": "code",
   "execution_count": null,
   "id": "a782cec9-5fa1-4646-b647-ff70dca734f5",
   "metadata": {},
   "outputs": [],
   "source": [
    "_dims = [\"x\", \"xp\", \"y\", \"yp\", \"z\", \"w\"]\n",
    "_units = [\"mm\", \"mrad\", \"mm\", \"mrad\", \"mm\", \"MeV\"]\n",
    "for i in range(6):\n",
    "    fig, ax = pplt.subplots(figsize=(5.0, 1.5))\n",
    "    ax.plot(\n",
    "        history[\"position\"],\n",
    "        1000.0 * history[f\"mean_{i}\"],\n",
    "        color=\"black\",\n",
    "    )\n",
    "    ax.format(xlabel=\"Position [m]\", ylabel=f\"<{_dims[i]}> [{_units[i]}]\")\n",
    "    save_figure(f\"mean_{i}\")\n",
    "    plt.show()"
   ]
  },
  {
   "cell_type": "markdown",
   "id": "73d83d5f-e5f4-4baf-afeb-863c7ec5b303",
   "metadata": {},
   "source": [
    "### Second-order moments"
   ]
  },
  {
   "cell_type": "code",
   "execution_count": null,
   "id": "962e02c1-14f9-46b3-a58d-2e88ab2b60cb",
   "metadata": {},
   "outputs": [],
   "source": [
    "for i in range(6):\n",
    "    for j in range(i + 1):\n",
    "        fig, ax = pplt.subplots(figsize=(5.0, 1.5))\n",
    "        ax.plot(\n",
    "            history[\"position\"],\n",
    "            1.0e6 * history[f\"cov_{j}-{i}\"],\n",
    "            color=\"black\",\n",
    "        )\n",
    "        ax.format(xlabel=\"Position [m]\")\n",
    "        save_figure(f\"cov_{j}-{i}\")\n",
    "        plt.show()"
   ]
  },
  {
   "cell_type": "markdown",
   "id": "5465c201-60ce-483d-8721-cef2ca46f23b",
   "metadata": {},
   "source": [
    "### Standard deviations"
   ]
  },
  {
   "cell_type": "code",
   "execution_count": null,
   "id": "ad8f8b32-8fa0-45c8-b29c-08deb7c312cb",
   "metadata": {
    "tags": []
   },
   "outputs": [],
   "source": [
    "for i in range(6):\n",
    "    fig, ax = pplt.subplots(figsize=(5.0, 1.5))\n",
    "    ax.plot(\n",
    "        history[\"position\"],\n",
    "        1.0e3 * np.sqrt(history[f\"cov_{i}-{i}\"]),\n",
    "        color=\"black\",\n",
    "    )\n",
    "    dims = [\"x\", \"xp\", \"y\", \"yp\", \"z\", \"dE\"]\n",
    "    units = [\"mm\", \"mrad\", \"mm\", \"mrad\", \"mm\", \"GeV\"]\n",
    "    ax.format(xlabel=\"Position [m]\", ylabel=f\"{dims[i]} rms [{units[i]}]\")\n",
    "    save_figure(f\"rms_{i}\")\n",
    "    plt.show()"
   ]
  },
  {
   "cell_type": "code",
   "execution_count": null,
   "id": "0220b819-7515-4568-a01d-1719e8f045aa",
   "metadata": {},
   "outputs": [],
   "source": [
    "fig, ax = pplt.subplots(figsize=(5.0, 1.5))\n",
    "for i, dim in enumerate(\"xy\"):\n",
    "    ax.plot(\n",
    "        history[\"position\"],\n",
    "        1000.0 * history[f\"{dim}_rms\"],\n",
    "        label=dim,\n",
    "    )\n",
    "    ax.format(xlabel=\"Position [m]\", ylabel=\"[mm]\")\n",
    "plt.show()"
   ]
  },
  {
   "cell_type": "code",
   "execution_count": null,
   "id": "934f8a4c-8cad-4ce7-9af6-b7df0519550a",
   "metadata": {},
   "outputs": [],
   "source": [
    "fig, ax = pplt.subplots(figsize=(5.0, 1.5))\n",
    "ax.plot(\n",
    "    history[\"position\"],\n",
    "    history[\"z_rms_deg\"],\n",
    "    color=\"black\",\n",
    ")\n",
    "ax.format(xlabel=\"Position [m]\", ylabel=\"z rms [deg]\")\n",
    "save_figure(f\"rms_4_deg\")\n",
    "plt.show()"
   ]
  },
  {
   "cell_type": "markdown",
   "id": "4945b5d2-843a-427f-9b61-f10c634efe5f",
   "metadata": {},
   "source": [
    "### Emittances "
   ]
  },
  {
   "cell_type": "code",
   "execution_count": null,
   "id": "5eaf8966-f1e2-475e-9ad8-2424b0bab222",
   "metadata": {},
   "outputs": [],
   "source": [
    "for tag in [\"x\", \"y\", \"z\", \"xy\", \"xyz\"]:\n",
    "    factor = 1.0\n",
    "    if tag in [\"x\", \"y\", \"z\"]:\n",
    "        factor = 1.00e+06\n",
    "    if tag == \"xy\":\n",
    "        factor = 1.00e+12\n",
    "    elif tag == \"xyz\":\n",
    "        factor = 1.00e+18\n",
    "        \n",
    "    fig, ax = pplt.subplots(figsize=(5.0, 1.75))\n",
    "    ax.plot(\n",
    "        history[\"position\"],\n",
    "        factor * history[f\"eps_{tag}\"],\n",
    "        color=\"black\",\n",
    "    )\n",
    "    ax.format(xlabel=\"Position [m]\", ylabel=\"eps_{}\".format(tag))\n",
    "    save_figure(f\"eps_{tag}\")\n",
    "    plt.show()"
   ]
  },
  {
   "cell_type": "markdown",
   "id": "98c7a0dc-66e9-47e6-9471-fed1e2e012ab",
   "metadata": {},
   "source": [
    "### Extrema "
   ]
  },
  {
   "cell_type": "code",
   "execution_count": null,
   "id": "def1478d-0114-49b6-accf-fdc9674691d1",
   "metadata": {},
   "outputs": [],
   "source": [
    "history[\"phi_rms\"] = history[\"z_rms_deg\"]\n",
    "\n",
    "for dim, unit in zip([\"x\", \"y\", \"phi\"], [\"mm\", \"mm\", \"deg\"]):\n",
    "    fig, ax = pplt.subplots(figsize=(5.0, 1.5))\n",
    "    factor = 1.0\n",
    "    if dim in \"xy\":\n",
    "        factor = 1000.0\n",
    "    ax.fill_between(\n",
    "        history[\"position\"],\n",
    "        0.0,\n",
    "        factor * history[f\"{dim}_max\"],\n",
    "        color=\"black\",\n",
    "        alpha=0.25,\n",
    "        ec=\"None\",\n",
    "        label=\"max\",\n",
    "    )\n",
    "    ax.fill_between(\n",
    "        history[\"position\"],\n",
    "        0.0,\n",
    "        factor * history[f\"{dim}_rms\"],\n",
    "        color=\"black\",\n",
    "        label=\"rms\",\n",
    "    )\n",
    "    ax.legend(loc=\"r\", ncols=1, framealpha=0.0)\n",
    "    ax.format(xlabel=\"Position [m]\", ylabel=f\"{dim} [{unit}]\")\n",
    "    save_figure(f\"extrema_rms_{dim}\")\n",
    "    plt.show()"
   ]
  },
  {
   "cell_type": "markdown",
   "id": "b4803de5-b900-4563-b8ad-832d382eb1af",
   "metadata": {},
   "source": [
    "## Phase space distribution "
   ]
  },
  {
   "cell_type": "markdown",
   "id": "749535ed-ad6e-4469-adb9-1f095d11fbb4",
   "metadata": {},
   "source": [
    "### Histograms"
   ]
  },
  {
   "cell_type": "code",
   "execution_count": null,
   "id": "bd869b46-e6c2-4ce3-8e38-b28534aa8a0f",
   "metadata": {},
   "outputs": [],
   "source": [
    "histograms = {}\n",
    "for axis in [(0, 1), (2, 3)]:\n",
    "    key = \"{}-{}\".format(dims[axis[0]], dims[axis[1]])\n",
    "    histograms[key] = []\n",
    "    \n",
    "    filenames = os.listdir(folder)\n",
    "    filenames = [f for f in filenames if f.startswith(f\"hist_{axis[0]}-{axis[1]}\")]\n",
    "    filenames = sorted(filenames)\n",
    "    filenames = [os.path.join(folder, f) for f in filenames]\n",
    "    \n",
    "    for filename in filenames:\n",
    "        data = np.load(filename)\n",
    "        hist = data[1:, 1:]\n",
    "        coords = [data[1:, 0], data[0, 1:]]\n",
    "        histograms[key].append({\"filename\": filename, \"hist\": hist, \"coords\": coords})"
   ]
  },
  {
   "cell_type": "code",
   "execution_count": null,
   "id": "975ed29f-9eae-46a7-b60e-abbd4d0b71a0",
   "metadata": {},
   "outputs": [],
   "source": [
    "@interact(\n",
    "    index=widgets.IntSlider(min=0, max=max((len(filenames) - 1), 1), value=0),\n",
    "    key=list(histograms),\n",
    "    logthresh=widgets.FloatSlider(min=-6.0, max=-1.0, value=-4.0),\n",
    "    xmax=widgets.FloatSlider(min=5.0, max=10.0, value=10.0),\n",
    "    cmap=[\"viridis\", \"blues\", \"plasma\"],\n",
    "    mask=False,\n",
    ")\n",
    "def update_joint_hist(index, key, logthresh, xmax, cmap=\"viridis\", mask=False):\n",
    "    if len(histograms[key]) == 0:\n",
    "        return\n",
    "    dim1, dim2 = key.split(\"-\")\n",
    "    histogram = histograms[key][index]\n",
    "    hist = histogram[\"hist\"].copy()\n",
    "    coords = histogram[\"coords\"]\n",
    "    \n",
    "    hist = np.clip(hist, 0.0, None)\n",
    "    hist = hist / np.max(hist)\n",
    "    \n",
    "    thresh = 10.0 ** logthresh\n",
    "    hist[hist < thresh] = 0.0\n",
    "\n",
    "    grid = psv.JointGrid(\n",
    "        marg_kws=dict(space=\"2.0em\", width=\"11.0em\"),\n",
    "        marg_fmt_kws_x=dict(yspineloc=\"left\", xspineloc=\"bottom\"),\n",
    "        marg_fmt_kws_y=dict(yspineloc=\"left\", xspineloc=\"bottom\"),\n",
    "        xspineloc=\"bottom\",\n",
    "        yspineloc=\"left\",\n",
    "    )\n",
    "    grid.plot_image(\n",
    "        hist,\n",
    "        coords=coords,\n",
    "        marg_kws=dict(scale=\"max\"),\n",
    "        process_kws=dict(norm=\"max\"),\n",
    "        offset=(0.0 if mask else 1.0),\n",
    "        norm=\"log\",\n",
    "        colorbar=True,\n",
    "        colorbar_kw=dict(tickminor=True, width=\"1.2em\"),\n",
    "        cmap=pplt.Colormap(cmap),\n",
    "    )\n",
    "    ymin = 10.0**-6.0\n",
    "    ymax = 2.0\n",
    "    grid.ax_marg_x.format(yformatter=\"log\", yscale=\"log\")\n",
    "    grid.ax_marg_y.format(xformatter=\"log\", xscale=\"log\")\n",
    "    grid.ax_marg_x.format(ymin=ymin, ymax=ymax)\n",
    "    grid.ax_marg_y.format(xmin=ymin, xmax=ymax)\n",
    "    grid.ax.format(xlabel=dim1, ylabel=dim2)\n",
    "    grid.ax.format(xlim=(-xmax, xmax), ylim=(-xmax, xmax))\n",
    "    \n",
    "    return grid"
   ]
  },
  {
   "cell_type": "code",
   "execution_count": null,
   "id": "ea00e5f4-82ad-4cf3-bb7b-7cf9277729ea",
   "metadata": {},
   "outputs": [],
   "source": [
    "for key in histograms:\n",
    "    print(key)\n",
    "    for index, histogram in enumerate(tqdm(histograms[key])):\n",
    "        grid = update_joint_hist(index=index, key=key, logthresh=-5.0, xmax=7.5, cmap=\"blues\", mask=True)\n",
    "        filename = os.path.join(outdir, f\"hist_joint_{key}_{index:05.0f}.png\")\n",
    "        plt.savefig(filename, dpi=250)\n",
    "        plt.close(\"all\")"
   ]
  },
  {
   "cell_type": "markdown",
   "id": "521f591f-39a2-41dc-8502-4fd0af91f29d",
   "metadata": {},
   "source": [
    "### Load bunches"
   ]
  },
  {
   "cell_type": "markdown",
   "id": "15a6072c-1ed9-4f68-ba86-3aa042a3420d",
   "metadata": {},
   "source": [
    "Collect bunch file names."
   ]
  },
  {
   "cell_type": "code",
   "execution_count": null,
   "id": "7c07aece-c232-425c-bace-c9974b8ada52",
   "metadata": {},
   "outputs": [],
   "source": [
    "bunch_filenames = os.listdir(folder)\n",
    "bunch_filenames = [f for f in bunch_filenames if \"bunch\" in f]\n",
    "bunch_filenames = [f for f in bunch_filenames if \"lostbunch\" not in f]\n",
    "bunch_filenames = [f for f in bunch_filenames if \"smallbunch\" not in f]\n",
    "bunch_filenames = sorted(bunch_filenames)\n",
    "bunch_filenames = [os.path.join(folder, f) for f in bunch_filenames]\n",
    "\n",
    "n_frames = len(bunch_filenames)\n",
    "\n",
    "pprint(bunch_filenames)"
   ]
  },
  {
   "cell_type": "markdown",
   "id": "508483a7-c09b-4693-bf54-121ec8d8b710",
   "metadata": {},
   "source": [
    "For each bunch, find its index in the history array. This tells us the position, node, energy, etc. for each bunch. We can then convert z to phi if we want."
   ]
  },
  {
   "cell_type": "code",
   "execution_count": null,
   "id": "870a418b-f537-49a4-ab9f-f1a9a67bf5e6",
   "metadata": {},
   "outputs": [],
   "source": [
    "bunch_history_indices = []\n",
    "for frame, filename in enumerate(bunch_filenames):\n",
    "    node = filename.split(\"bunch_\")[-1].split(\".dat\")[0]\n",
    "    node = node[(node.find(\"_\") + 1):]\n",
    "    if node == \"START\":\n",
    "        index = 0\n",
    "    elif node == \"STOP\":\n",
    "        index = history.shape[0] - 1\n",
    "    else:\n",
    "        if node in history[\"node\"].tolist():\n",
    "            index = history[\"node\"].tolist().index(node)\n",
    "        else:\n",
    "            index = history.shape[0] - 1\n",
    "    bunch_history_indices.append(index)\n",
    "    print(f\"frame={frame}, node={node}, history_index={index}\")"
   ]
  },
  {
   "cell_type": "markdown",
   "id": "68943998-352b-494d-9fb3-26208c1e8830",
   "metadata": {},
   "source": [
    "Load the phase space coordinates."
   ]
  },
  {
   "cell_type": "code",
   "execution_count": null,
   "id": "b6b1e351-c70c-4d7f-81d6-d44e089fb30d",
   "metadata": {},
   "outputs": [],
   "source": [
    "max_rows = None\n",
    "\n",
    "bunches = []\n",
    "columns = [\"x\", \"xp\", \"y\", \"yp\", \"z\", \"w\", \"index\", \"x0\", \"xp0\", \"y0\", \"yp0\", \"z0\", \"w0\"]\n",
    "for frame, filename in enumerate(tqdm(bunch_filenames)):\n",
    "    bunch = np.loadtxt(filename, comments=\"%\", max_rows=max_rows)\n",
    "    # Convert [m, rad, m, rad, m, GeV] -> [mm, mrad, mm, mrad, mm, MeV]\n",
    "    bunch[:, :6] *= 1.00e+03\n",
    "    if bunch.shape[1] >= 13:\n",
    "        bunch[:, 7:13] *= 1.00e+03\n",
    "    # Create DataFrame.\n",
    "    bunch = pd.DataFrame(bunch, columns=columns[:bunch.shape[1]])\n",
    "    if \"index\" in bunch.columns:\n",
    "        bunch[\"index\"] = bunch[\"index\"].astype(int)\n",
    "    # Convert z --> phi.\n",
    "    j = bunch_history_indices[frame]\n",
    "    z_to_phase_coeff = history.loc[j, \"z_to_phase_coeff\"]\n",
    "    bunch[\"phi\"] = -z_to_phase_coeff * 0.001 * bunch[\"z\"]\n",
    "    if \"z0\" in bunch:\n",
    "        bunch[\"phi0\"] = -z_to_phase_coeff * 0.001 * bunch[\"z0\"]\n",
    "    bunches.append(bunch)"
   ]
  },
  {
   "cell_type": "markdown",
   "id": "bed0b74b-6366-469e-b328-2fd74c237cef",
   "metadata": {},
   "source": [
    "### 1D projections"
   ]
  },
  {
   "cell_type": "markdown",
   "id": "6af9427a-d1a1-497c-8d49-90abdc0cd67a",
   "metadata": {},
   "source": [
    "Decide on units."
   ]
  },
  {
   "cell_type": "code",
   "execution_count": null,
   "id": "32b2c2b0-23c1-4824-beb1-ba623fb83990",
   "metadata": {},
   "outputs": [],
   "source": [
    "use_phi = False\n",
    "dims = [\"x\", \"xp\", \"y\", \"yp\", \"z\", \"w\"]\n",
    "units = [\"mm\", \"mrad\", \"mm\", \"mrad\", \"mm\", \"MeV\"]\n",
    "if use_phi:\n",
    "    dims[4] = \"phi\"\n",
    "    units[4] = \"deg\"\n",
    "dims_units = [f\"{dim} [{unit}]\" for dim, unit in zip(dims, units)]"
   ]
  },
  {
   "cell_type": "markdown",
   "id": "6969d25f-b986-4dc9-8356-0a939aeb3d90",
   "metadata": {},
   "source": [
    "#### Partial projections [INT]"
   ]
  },
  {
   "cell_type": "code",
   "execution_count": null,
   "id": "939c04e2-7d5d-444b-8356-28af81a49212",
   "metadata": {},
   "outputs": [],
   "source": [
    "psv.cloud.proj1d_interactive_slice(\n",
    "    data=[bunch.loc[:, dims].values for bunch in bunches],\n",
    "    dims=dims,\n",
    "    units=units,\n",
    "    autolim_kws=dict(pad=0.1, zero_center=True, sigma=None, share=None),\n",
    "    color=\"black\",\n",
    ")"
   ]
  },
  {
   "cell_type": "markdown",
   "id": "efbedff4-8948-40a7-b0a3-35fc029108af",
   "metadata": {},
   "source": [
    "#### Full projections"
   ]
  },
  {
   "cell_type": "markdown",
   "id": "4ff51807-c113-49e1-9e3a-a64bd1817731",
   "metadata": {},
   "source": [
    "The following cell saves all 1D projections of the phase space distribution at each frame."
   ]
  },
  {
   "cell_type": "code",
   "execution_count": null,
   "id": "572a66c4-270f-4329-9f93-b4e386fae003",
   "metadata": {},
   "outputs": [],
   "source": [
    "if save:\n",
    "    bins = 85\n",
    "    for frame, bunch in enumerate(tqdm(bunches)):\n",
    "        X = bunch.loc[:, dims].values\n",
    "        X_scaled = X / np.std(X, axis=0)\n",
    "        limits = psv.cloud.auto_limits(X_scaled, pad=0.1, zero_center=True)\n",
    "        for i in range(X.shape[1]):\n",
    "            profile, edges = np.histogram(X_scaled[:, i], bins, limits[i])\n",
    "            profile = profile / np.max(profile)\n",
    "            fig, ax = pplt.subplots()\n",
    "            psv.plot_profile(\n",
    "                profile=profile,\n",
    "                edges=edges,\n",
    "                ax=ax,\n",
    "                color=\"black\",\n",
    "                kind=\"step\",\n",
    "                lw=1.5,\n",
    "            )\n",
    "            ax.format(yscale=\"log\", yformatter=\"log\")\n",
    "            ax.format(xlabel=r\"{} / $\\sigma$\".format(dims[i]))\n",
    "            save_figure(f\"proj1d_{i}_{frame}\")\n",
    "            plt.close()"
   ]
  },
  {
   "cell_type": "markdown",
   "id": "55254a2d-0566-4e61-b737-4d01676291e0",
   "metadata": {},
   "source": [
    "### 2D projections "
   ]
  },
  {
   "cell_type": "markdown",
   "id": "232b8021-5b54-44af-a805-f105d9b68843",
   "metadata": {},
   "source": [
    "#### Partial projections [INT]"
   ]
  },
  {
   "cell_type": "code",
   "execution_count": null,
   "id": "20348140-f414-4f86-baf5-7f785fddd096",
   "metadata": {
    "jp-MarkdownHeadingCollapsed": true,
    "tags": []
   },
   "outputs": [],
   "source": [
    "psv.cloud.proj2d_interactive_slice(\n",
    "    data=[bunch.loc[:, dims].values for bunch in bunches],\n",
    "    dims=dims,\n",
    "    units=units,\n",
    "    autolim_kws=dict(zero_center=True, sigma=None, share=None),\n",
    "    options=dict(\n",
    "        log=True,\n",
    "        mask=True,\n",
    "        normalize=True,\n",
    "        ellipse=True,\n",
    "        profiles=True,\n",
    "    ),\n",
    "    process_kws=dict(norm=\"max\"),\n",
    "    colorbar=True,\n",
    "    colorbar_kw=dict(tickminor=True),\n",
    ")"
   ]
  },
  {
   "cell_type": "markdown",
   "id": "36f8a9de-d024-485c-813b-63d94492f893",
   "metadata": {},
   "source": [
    "#### Full projections (joint plot)"
   ]
  },
  {
   "cell_type": "code",
   "execution_count": null,
   "id": "c4f81fd5-1c0b-487a-bb88-09e6c1cdfdf8",
   "metadata": {},
   "outputs": [],
   "source": [
    "if save:\n",
    "    bins = 85\n",
    "    for frame, bunch in enumerate(tqdm(bunches)):\n",
    "        X = ps.cloud.norm_xxp_yyp_zzp(\n",
    "            bunch.loc[:, dims].values,\n",
    "            scale_emittance=True,\n",
    "        )\n",
    "        limits = psv.cloud.auto_limits(X, pad=0.1, zero_center=True)\n",
    "        for i in range(X.shape[1]):\n",
    "            for j in range(i):\n",
    "                axis = (j, i)\n",
    "                grid = psv.JointGrid(\n",
    "                    marg_kws=dict(space=\"2.0em\", width=\"13.0em\"),\n",
    "                    marg_fmt_kws_x=dict(yspineloc=\"left\", xspineloc=\"bottom\"),\n",
    "                    marg_fmt_kws_y=dict(yspineloc=\"left\", xspineloc=\"bottom\"),\n",
    "                    xspineloc=\"bottom\",\n",
    "                    yspineloc=\"left\",\n",
    "                )\n",
    "                grid.plot_cloud(\n",
    "                    X[:, axis], \n",
    "                    kind=\"hist\",\n",
    "                    bins=bins,\n",
    "                    limits=[limits[k] for k in axis],\n",
    "                    marg_kws=dict(scale=\"max\"),\n",
    "                    marg_hist_kws=dict(bins=bins),\n",
    "                    process_kws=dict(norm=\"max\"),\n",
    "                    offset=1.0,\n",
    "                    norm=\"log\",\n",
    "                    colorbar=True,\n",
    "                    colorbar_kw=dict(tickminor=True, width=\"1.2em\"),\n",
    "                )\n",
    "                ymin = 10.0**-6.0\n",
    "                ymax = 2.0\n",
    "                grid.ax_marg_x.format(yformatter=\"log\", yscale=\"log\")\n",
    "                grid.ax_marg_y.format(xformatter=\"log\", xscale=\"log\")\n",
    "                grid.ax_marg_x.format(ymin=ymin, ymax=ymax)\n",
    "                grid.ax_marg_y.format(xmin=ymin, xmax=ymax)\n",
    "                grid.ax.format(xlabel=dims[axis[0]], ylabel=dims[axis[1]])\n",
    "                save_figure(f\"proj2d_{axis[0]}-{axis[1]}_{frame}\")\n",
    "                plt.close()"
   ]
  },
  {
   "cell_type": "markdown",
   "id": "1ea7ae18-ae95-4977-8523-74711eb0934b",
   "metadata": {},
   "source": [
    "### Corner plots"
   ]
  },
  {
   "cell_type": "code",
   "execution_count": null,
   "id": "3b367ae6-904e-40fd-92a6-3cbc245b6d70",
   "metadata": {},
   "outputs": [],
   "source": [
    "if save:\n",
    "    for i, bunch in enumerate(tqdm(bunches)):\n",
    "        X = ps.cloud.norm_xxp_yyp_zzp(\n",
    "            bunch.iloc[:, :6].values,\n",
    "            scale_emittance=True,\n",
    "        )\n",
    "        grid = psv.CornerGrid(d=6, labels=dims, corner=True, diag_rspine=True, space=1.4)\n",
    "        grid.plot_cloud(\n",
    "            X, \n",
    "            lower=True, \n",
    "            upper=False,     \n",
    "            autolim_kws=dict(pad=0.1, zero_center=True), \n",
    "            kind=\"hist\",\n",
    "            bins=100,\n",
    "            offset=1.0,\n",
    "            norm=\"log\",\n",
    "            cmap=\"viridis\",\n",
    "        )\n",
    "        grid.format_diag(yscale=\"log\", yformatter=\"log\", ymin=(10.0 ** -6.0))\n",
    "        save_figure(f\"corner_log_{i}\")\n",
    "        plt.show()"
   ]
  },
  {
   "cell_type": "markdown",
   "id": "09803e0a-8118-4e0e-9a7f-f60e964f1959",
   "metadata": {},
   "source": [
    "### Radial density"
   ]
  },
  {
   "cell_type": "markdown",
   "id": "97d2c5f5-b6f2-47ce-adfa-824b832883bc",
   "metadata": {},
   "source": [
    "Here we compute the density within spherical shells."
   ]
  },
  {
   "cell_type": "markdown",
   "id": "0802f91b-79d2-4fe7-b3ff-3ebbb7d9a4f0",
   "metadata": {},
   "source": [
    "#### Interactive [INT]"
   ]
  },
  {
   "cell_type": "code",
   "execution_count": null,
   "id": "3cc35cbd-c047-4e98-b09f-ed70c7755f82",
   "metadata": {},
   "outputs": [],
   "source": [
    "@interact(\n",
    "    frame=widgets.BoundedIntText(min=0, max=(len(bunches) - 1), value=0),\n",
    "    bins=(25, 75),\n",
    "    log=True,\n",
    "    x=True,\n",
    "    px=True,\n",
    "    y=False,\n",
    "    py=False,\n",
    "    z=False,\n",
    "    pz=False,\n",
    ")\n",
    "def update_radial_density(frame, bins, log, x, px, y, py, z, pz):\n",
    "    bunch = bunches[frame]\n",
    "    X = ps.cloud.norm_xxp_yyp_zzp(bunch.loc[:, dims].values, scale_emittance=True) \n",
    "    axis = tuple([i for i, check in enumerate([x, px, y, py, z, pz]) if check])\n",
    "\n",
    "    fig, ax = pplt.subplots()\n",
    "    hist_r, edges_r = ps.cloud.radial_histogram(X[:, axis], bins=bins, centers=False)\n",
    "    hist_r = hist_r / np.sum(hist_r * np.diff(edges_r))\n",
    "    centers_r = ps.utils.centers_from_edges(edges_r)\n",
    "    ax.plot(centers_r, hist_r, drawstyle=\"steps-mid\", color=\"black\")\n",
    "    ax.format(\n",
    "        xmin=0.0,\n",
    "        xlabel=\"radius\", ylabel=\"density\",\n",
    "        title=f\"axis={axis}\", title_kw=dict(fontsize=\"medium\"),\n",
    "    )\n",
    "\n",
    "    ymin = min(hist_r[hist_r > 0])\n",
    "    ax.plot(centers_r, np.exp(-0.5 * (centers_r**2)), color=\"black\", alpha=0.2)\n",
    "    ax.format(ymin=ymin)\n",
    "\n",
    "    if log:\n",
    "        ax.format(yscale=\"log\", yformatter=\"log\")\n",
    "    return ax"
   ]
  },
  {
   "cell_type": "code",
   "execution_count": null,
   "id": "bb5a8791-c0da-4020-b7a5-985c00061eda",
   "metadata": {},
   "outputs": [],
   "source": [
    "axis_list_all = []\n",
    "for i in range(6):\n",
    "    for j in range(i):\n",
    "        axis_list_all.append((j, i))\n",
    "        for k in range(j):\n",
    "            axis_list_all.append((k, j, i))\n",
    "            for l in range(k):\n",
    "                axis_list_all.append((l, k, j, i))\n",
    "                for m in range(l):\n",
    "                    axis_list_all.append((m, l, k, j, i))\n",
    "axis_list_all.append((0, 1, 2, 3, 4, 5))"
   ]
  },
  {
   "cell_type": "code",
   "execution_count": null,
   "id": "9fc8f49d-eed0-4a4c-b1db-9524bafb1f1f",
   "metadata": {},
   "outputs": [],
   "source": [
    "axis_list = [\n",
    "    (0, 1),\n",
    "    (2, 3),\n",
    "    (4, 5),\n",
    "    (0, 1, 2, 3),\n",
    "    (0, 1, 4, 5),\n",
    "    (2, 3, 4, 5),\n",
    "    (0, 1, 2, 3, 4, 5),\n",
    "]"
   ]
  },
  {
   "cell_type": "code",
   "execution_count": null,
   "id": "bfbe14e5-8515-4b1e-ac57-4db76c381474",
   "metadata": {},
   "outputs": [],
   "source": [
    "if save:\n",
    "    for frame in tqdm(range(n_frames)):\n",
    "        for axis in tqdm(axis_list):\n",
    "            switches = 6 * [False]\n",
    "            for k in axis:\n",
    "                switches[k] = True\n",
    "            x, xp, y, yp, z, pz = switches\n",
    "            ax = update_radial_density(\n",
    "                frame=frame,\n",
    "                bins=50,\n",
    "                log=True,\n",
    "                x=switches[0],\n",
    "                px=switches[1],\n",
    "                y=switches[2],\n",
    "                py=switches[3],\n",
    "                z=switches[4],\n",
    "                pz=switches[5],\n",
    "            )\n",
    "        \n",
    "            _dims = [r\"x\", r\"x'\", \"y\", \"y'\", \"z\", \"z'\"]\n",
    "            xlabel = \"-\".join([_dims[k] for k in axis])\n",
    "            xlabel = f\"Radius ({xlabel})\"\n",
    "            ax.format(yscale=\"log\", yformatter=\"log\", xlabel=xlabel, ylabel=\"Density\", xmin=0.0)\n",
    "            ax.legend(loc=\"upper right\", ncols=1)\n",
    "        \n",
    "            tag = \"-\".join([str(k) for k in axis])\n",
    "            save_figure(f\"radial_{tag}_{frame}\")\n",
    "            plt.close()"
   ]
  },
  {
   "cell_type": "markdown",
   "id": "0319adc6-3197-483c-aed3-0351ca6f40d3",
   "metadata": {},
   "source": [
    "## Losses"
   ]
  },
  {
   "cell_type": "markdown",
   "id": "f9f8c879-3ad6-41d3-b787-fe9e40d9799a",
   "metadata": {},
   "source": [
    "### Scalar"
   ]
  },
  {
   "cell_type": "code",
   "execution_count": null,
   "id": "790ad90d-82f9-41f3-9c61-459b0c58c4f0",
   "metadata": {},
   "outputs": [],
   "source": [
    "apertures = pd.read_csv(os.path.join(folder, f\"losses.txt\"), sep=\" \")\n",
    "apertures"
   ]
  },
  {
   "cell_type": "code",
   "execution_count": null,
   "id": "321c6fe8-f22f-407e-a263-c869d4991b53",
   "metadata": {
    "tags": []
   },
   "outputs": [],
   "source": [
    "apertures[\"loss\"].sum()"
   ]
  },
  {
   "cell_type": "code",
   "execution_count": null,
   "id": "0b38b25b-86e6-4bce-add8-2b1553ac6372",
   "metadata": {
    "tags": []
   },
   "outputs": [],
   "source": [
    "fig, ax = pplt.subplots(figsize=(5.0, 2.0))\n",
    "ax.plot(\n",
    "    history[\"position\"],\n",
    "    abs(history[\"n_parts\"] - history.loc[0, \"n_parts\"]),\n",
    "    color=\"black\",\n",
    ")\n",
    "ax.format(xlabel=\"Position [m]\", ylabel=\"Loss (cumulative)\")\n",
    "save_figure(\"loss_cumulative\")\n",
    "plt.show()"
   ]
  },
  {
   "cell_type": "markdown",
   "id": "d3972ae2-c2d6-4e0b-b712-32a1e35d1a1c",
   "metadata": {},
   "source": [
    "### Lost phase space distribution"
   ]
  },
  {
   "cell_type": "markdown",
   "id": "6a96fe38-8eaf-4258-8263-4b86f59f5a25",
   "metadata": {},
   "source": [
    "Get lost bunch filename."
   ]
  },
  {
   "cell_type": "code",
   "execution_count": null,
   "id": "b814182b-bad7-41e2-b124-ae86ea6811ed",
   "metadata": {},
   "outputs": [],
   "source": [
    "filenames = [f for f in os.listdir(folder) if \"lostbunch\" in f ]\n",
    "filenames = [os.path.join(folder, f) for f in filenames]\n",
    "filename = filenames[0]\n",
    "filename"
   ]
  },
  {
   "cell_type": "markdown",
   "id": "cb7e2a0b-0d7f-4d32-9276-c3ad1687af69",
   "metadata": {},
   "source": [
    "Load lost bunch."
   ]
  },
  {
   "cell_type": "code",
   "execution_count": null,
   "id": "34311aa4-bb4a-479b-868f-b6ab1ba6a7f1",
   "metadata": {},
   "outputs": [],
   "source": [
    "lostbunch = np.loadtxt(filename, comments=\"%\")\n",
    "lostbunch[:, :6] *= 1000.0    \n",
    "lostbunch = pd.DataFrame(lostbunch, columns=[\"x\", \"xp\", \"y\", \"yp\", \"z\", \"dE\", \"s\", \"index\"])\n",
    "lostbunch[\"index\"] = lostbunch[\"index\"].astype(int)\n",
    "lostbunch = lostbunch.sort_values(\"s\")\n",
    "z_to_phase_interp = interpolate.interp1d(\n",
    "    history[\"position\"], history[\"z_to_phase_coeff\"], kind=\"linear\"\n",
    ")\n",
    "lostbunch[\"phi\"] = -z_to_phase_interp(lostbunch[\"s\"]) * 0.001 * lostbunch[\"z\"]\n",
    "lostbunch"
   ]
  },
  {
   "cell_type": "markdown",
   "id": "566908a4-4f3b-4cd9-82ab-47de0e81619d",
   "metadata": {},
   "source": [
    "#### Lost r-z coordinates"
   ]
  },
  {
   "cell_type": "code",
   "execution_count": null,
   "id": "8e02fdee-b356-4368-8cd0-0324715db2c2",
   "metadata": {},
   "outputs": [],
   "source": [
    "lostbunch[\"r\"] = np.sqrt(lostbunch[\"x\"]**2 + lostbunch[\"y\"]**2)\n",
    "\n",
    "fig, ax = pplt.subplots()\n",
    "ax.hist2d(\n",
    "    lostbunch[\"phi\"], \n",
    "    lostbunch[\"r\"], \n",
    "    bins=100,\n",
    "    colorbar=True,\n",
    "    colorbar_kw=dict(label=\"s [m]\"),\n",
    ")\n",
    "ax.format(xlabel=r\"phi [deg]\", ylabel=\"radius [mm]\")\n",
    "save_figure(\"loss_rz\")"
   ]
  },
  {
   "cell_type": "code",
   "execution_count": null,
   "id": "a1eb24a5-9f51-4097-b9eb-2b77eb156718",
   "metadata": {},
   "outputs": [],
   "source": []
  }
 ],
 "metadata": {
  "kernelspec": {
   "display_name": "myenv",
   "language": "python",
   "name": "myenv"
  },
  "language_info": {
   "codemirror_mode": {
    "name": "ipython",
    "version": 3
   },
   "file_extension": ".py",
   "mimetype": "text/x-python",
   "name": "python",
   "nbconvert_exporter": "python",
   "pygments_lexer": "ipython3",
   "version": "3.9.16"
  },
  "toc-autonumbering": true
 },
 "nbformat": 4,
 "nbformat_minor": 5
}
